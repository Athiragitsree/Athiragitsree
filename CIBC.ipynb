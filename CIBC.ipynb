{
 "cells": [
  {
   "cell_type": "code",
   "execution_count": 4,
   "metadata": {},
   "outputs": [
    {
     "name": "stdout",
     "output_type": "stream",
     "text": [
      "Requirement already satisfied: pandas in c:\\users\\sreej\\appdata\\local\\programs\\python\\python310\\lib\\site-packages (2.2.3)\n",
      "Requirement already satisfied: numpy in c:\\users\\sreej\\appdata\\local\\programs\\python\\python310\\lib\\site-packages (1.26.4)\n",
      "Requirement already satisfied: scikit-learn in c:\\users\\sreej\\appdata\\local\\programs\\python\\python310\\lib\\site-packages (1.6.1)\n",
      "Requirement already satisfied: matplotlib in c:\\users\\sreej\\appdata\\local\\programs\\python\\python310\\lib\\site-packages (3.9.3)\n",
      "Requirement already satisfied: seaborn in c:\\users\\sreej\\appdata\\local\\programs\\python\\python310\\lib\\site-packages (0.13.2)\n",
      "Requirement already satisfied: scipy in c:\\users\\sreej\\appdata\\local\\programs\\python\\python310\\lib\\site-packages (1.13.1)\n",
      "Requirement already satisfied: python-dateutil>=2.8.2 in c:\\users\\sreej\\appdata\\roaming\\python\\python310\\site-packages (from pandas) (2.9.0.post0)\n",
      "Requirement already satisfied: pytz>=2020.1 in c:\\users\\sreej\\appdata\\local\\programs\\python\\python310\\lib\\site-packages (from pandas) (2024.2)\n",
      "Requirement already satisfied: tzdata>=2022.7 in c:\\users\\sreej\\appdata\\local\\programs\\python\\python310\\lib\\site-packages (from pandas) (2024.2)\n",
      "Requirement already satisfied: joblib>=1.2.0 in c:\\users\\sreej\\appdata\\local\\programs\\python\\python310\\lib\\site-packages (from scikit-learn) (1.4.2)\n",
      "Requirement already satisfied: threadpoolctl>=3.1.0 in c:\\users\\sreej\\appdata\\local\\programs\\python\\python310\\lib\\site-packages (from scikit-learn) (3.5.0)\n",
      "Requirement already satisfied: contourpy>=1.0.1 in c:\\users\\sreej\\appdata\\local\\programs\\python\\python310\\lib\\site-packages (from matplotlib) (1.3.1)\n",
      "Requirement already satisfied: cycler>=0.10 in c:\\users\\sreej\\appdata\\local\\programs\\python\\python310\\lib\\site-packages (from matplotlib) (0.12.1)\n",
      "Requirement already satisfied: fonttools>=4.22.0 in c:\\users\\sreej\\appdata\\local\\programs\\python\\python310\\lib\\site-packages (from matplotlib) (4.55.2)\n",
      "Requirement already satisfied: kiwisolver>=1.3.1 in c:\\users\\sreej\\appdata\\local\\programs\\python\\python310\\lib\\site-packages (from matplotlib) (1.4.7)\n",
      "Requirement already satisfied: packaging>=20.0 in c:\\users\\sreej\\appdata\\roaming\\python\\python310\\site-packages (from matplotlib) (24.2)\n",
      "Requirement already satisfied: pillow>=8 in c:\\users\\sreej\\appdata\\local\\programs\\python\\python310\\lib\\site-packages (from matplotlib) (11.0.0)\n",
      "Requirement already satisfied: pyparsing>=2.3.1 in c:\\users\\sreej\\appdata\\local\\programs\\python\\python310\\lib\\site-packages (from matplotlib) (3.2.0)\n",
      "Requirement already satisfied: six>=1.5 in c:\\users\\sreej\\appdata\\roaming\\python\\python310\\site-packages (from python-dateutil>=2.8.2->pandas) (1.17.0)\n",
      "Note: you may need to restart the kernel to use updated packages.\n"
     ]
    },
    {
     "name": "stderr",
     "output_type": "stream",
     "text": [
      "WARNING: Ignoring invalid distribution -rotobuf (c:\\users\\sreej\\appdata\\local\\programs\\python\\python310\\lib\\site-packages)\n",
      "WARNING: Ignoring invalid distribution -rotobuf (c:\\users\\sreej\\appdata\\local\\programs\\python\\python310\\lib\\site-packages)\n",
      "WARNING: Ignoring invalid distribution -rotobuf (c:\\users\\sreej\\appdata\\local\\programs\\python\\python310\\lib\\site-packages)\n"
     ]
    }
   ],
   "source": [
    "pip install pandas numpy scikit-learn matplotlib seaborn scipy\n"
   ]
  },
  {
   "cell_type": "code",
   "execution_count": 5,
   "metadata": {},
   "outputs": [],
   "source": [
    "import pandas as pd"
   ]
  },
  {
   "cell_type": "code",
   "execution_count": 6,
   "metadata": {},
   "outputs": [],
   "source": [
    "df = pd.read_excel(\"C:/Users/sreej/OneDrive/Desktop/cibc.xlsx\")\n"
   ]
  },
  {
   "cell_type": "code",
   "execution_count": 7,
   "metadata": {},
   "outputs": [
    {
     "name": "stdout",
     "output_type": "stream",
     "text": [
      "Requirement already satisfied: openpyxl in c:\\users\\sreej\\appdata\\local\\programs\\python\\python310\\lib\\site-packages (3.1.5)\n",
      "Requirement already satisfied: et-xmlfile in c:\\users\\sreej\\appdata\\local\\programs\\python\\python310\\lib\\site-packages (from openpyxl) (2.0.0)\n",
      "Note: you may need to restart the kernel to use updated packages.\n"
     ]
    },
    {
     "name": "stderr",
     "output_type": "stream",
     "text": [
      "WARNING: Ignoring invalid distribution -rotobuf (c:\\users\\sreej\\appdata\\local\\programs\\python\\python310\\lib\\site-packages)\n",
      "WARNING: Ignoring invalid distribution -rotobuf (c:\\users\\sreej\\appdata\\local\\programs\\python\\python310\\lib\\site-packages)\n",
      "WARNING: Ignoring invalid distribution -rotobuf (c:\\users\\sreej\\appdata\\local\\programs\\python\\python310\\lib\\site-packages)\n"
     ]
    }
   ],
   "source": [
    "pip install openpyxl"
   ]
  },
  {
   "cell_type": "code",
   "execution_count": 8,
   "metadata": {},
   "outputs": [
    {
     "data": {
      "text/html": [
       "<div>\n",
       "<style scoped>\n",
       "    .dataframe tbody tr th:only-of-type {\n",
       "        vertical-align: middle;\n",
       "    }\n",
       "\n",
       "    .dataframe tbody tr th {\n",
       "        vertical-align: top;\n",
       "    }\n",
       "\n",
       "    .dataframe thead th {\n",
       "        text-align: right;\n",
       "    }\n",
       "</style>\n",
       "<table border=\"1\" class=\"dataframe\">\n",
       "  <thead>\n",
       "    <tr style=\"text-align: right;\">\n",
       "      <th></th>\n",
       "      <th>Client ID</th>\n",
       "      <th>Survey Response Date</th>\n",
       "      <th>Survey Response Channel</th>\n",
       "      <th>NPS Score</th>\n",
       "      <th>Client First Service Date</th>\n",
       "      <th>Age</th>\n",
       "      <th>Gender</th>\n",
       "      <th>Province</th>\n",
       "      <th>High Value Client Indicator</th>\n",
       "      <th>Has Credit Card</th>\n",
       "      <th>Has Deposit Account</th>\n",
       "      <th>Has Investment Account</th>\n",
       "      <th>Has Borrowing Product</th>\n",
       "      <th>Total Product Count</th>\n",
       "      <th>Total Funds Managed</th>\n",
       "      <th>Chequing Balance</th>\n",
       "      <th>Savings Balance</th>\n",
       "      <th>Credit Card Balance</th>\n",
       "      <th>Client Attrited</th>\n",
       "    </tr>\n",
       "  </thead>\n",
       "  <tbody>\n",
       "    <tr>\n",
       "      <th>0</th>\n",
       "      <td>939L4933M74330OZ</td>\n",
       "      <td>2024-02-25</td>\n",
       "      <td>Mobile</td>\n",
       "      <td>0</td>\n",
       "      <td>1985-01-17</td>\n",
       "      <td>51 to 65</td>\n",
       "      <td>F</td>\n",
       "      <td>ON</td>\n",
       "      <td>0</td>\n",
       "      <td>0</td>\n",
       "      <td>1</td>\n",
       "      <td>0</td>\n",
       "      <td>1</td>\n",
       "      <td>4</td>\n",
       "      <td>400.0</td>\n",
       "      <td>300.0</td>\n",
       "      <td>NaN</td>\n",
       "      <td>NaN</td>\n",
       "      <td>No</td>\n",
       "    </tr>\n",
       "    <tr>\n",
       "      <th>1</th>\n",
       "      <td>429I6439D19572YJ</td>\n",
       "      <td>2024-01-24</td>\n",
       "      <td>Online</td>\n",
       "      <td>9</td>\n",
       "      <td>1988-01-26</td>\n",
       "      <td>51 to 65</td>\n",
       "      <td>F</td>\n",
       "      <td>BC</td>\n",
       "      <td>0</td>\n",
       "      <td>1</td>\n",
       "      <td>1</td>\n",
       "      <td>1</td>\n",
       "      <td>1</td>\n",
       "      <td>7</td>\n",
       "      <td>82600.0</td>\n",
       "      <td>39700.0</td>\n",
       "      <td>200.0</td>\n",
       "      <td>0.0</td>\n",
       "      <td>No</td>\n",
       "    </tr>\n",
       "    <tr>\n",
       "      <th>2</th>\n",
       "      <td>920A8054B28169QO</td>\n",
       "      <td>2024-05-22</td>\n",
       "      <td>Online</td>\n",
       "      <td>9</td>\n",
       "      <td>2019-01-13</td>\n",
       "      <td>19 to 35</td>\n",
       "      <td>F</td>\n",
       "      <td>NS</td>\n",
       "      <td>0</td>\n",
       "      <td>1</td>\n",
       "      <td>1</td>\n",
       "      <td>0</td>\n",
       "      <td>0</td>\n",
       "      <td>3</td>\n",
       "      <td>15000.0</td>\n",
       "      <td>1300.0</td>\n",
       "      <td>0.0</td>\n",
       "      <td>12000.0</td>\n",
       "      <td>No</td>\n",
       "    </tr>\n",
       "    <tr>\n",
       "      <th>3</th>\n",
       "      <td>957H8335M34557RI</td>\n",
       "      <td>2023-12-08</td>\n",
       "      <td>Mobile</td>\n",
       "      <td>10</td>\n",
       "      <td>1998-01-03</td>\n",
       "      <td>36 to 50</td>\n",
       "      <td>F</td>\n",
       "      <td>ON</td>\n",
       "      <td>0</td>\n",
       "      <td>1</td>\n",
       "      <td>1</td>\n",
       "      <td>0</td>\n",
       "      <td>1</td>\n",
       "      <td>4</td>\n",
       "      <td>19000.0</td>\n",
       "      <td>1700.0</td>\n",
       "      <td>NaN</td>\n",
       "      <td>6500.0</td>\n",
       "      <td>No</td>\n",
       "    </tr>\n",
       "    <tr>\n",
       "      <th>4</th>\n",
       "      <td>490W8554J38739BQ</td>\n",
       "      <td>2024-07-29</td>\n",
       "      <td>Mobile</td>\n",
       "      <td>8</td>\n",
       "      <td>1987-01-08</td>\n",
       "      <td>81 to 85</td>\n",
       "      <td>M</td>\n",
       "      <td>NB</td>\n",
       "      <td>0</td>\n",
       "      <td>1</td>\n",
       "      <td>1</td>\n",
       "      <td>0</td>\n",
       "      <td>0</td>\n",
       "      <td>4</td>\n",
       "      <td>3500.0</td>\n",
       "      <td>1500.0</td>\n",
       "      <td>NaN</td>\n",
       "      <td>1000.0</td>\n",
       "      <td>No</td>\n",
       "    </tr>\n",
       "  </tbody>\n",
       "</table>\n",
       "</div>"
      ],
      "text/plain": [
       "          Client ID Survey Response Date Survey Response Channel  NPS Score  \\\n",
       "0  939L4933M74330OZ           2024-02-25                  Mobile          0   \n",
       "1  429I6439D19572YJ           2024-01-24                  Online          9   \n",
       "2  920A8054B28169QO           2024-05-22                  Online          9   \n",
       "3  957H8335M34557RI           2023-12-08                  Mobile         10   \n",
       "4  490W8554J38739BQ           2024-07-29                  Mobile          8   \n",
       "\n",
       "  Client First Service Date       Age Gender Province  \\\n",
       "0                1985-01-17  51 to 65      F       ON   \n",
       "1                1988-01-26  51 to 65      F       BC   \n",
       "2                2019-01-13  19 to 35      F       NS   \n",
       "3                1998-01-03  36 to 50      F       ON   \n",
       "4                1987-01-08  81 to 85      M       NB   \n",
       "\n",
       "   High Value Client Indicator  Has Credit Card  Has Deposit Account  \\\n",
       "0                            0                0                    1   \n",
       "1                            0                1                    1   \n",
       "2                            0                1                    1   \n",
       "3                            0                1                    1   \n",
       "4                            0                1                    1   \n",
       "\n",
       "   Has Investment Account  Has Borrowing Product  Total Product Count  \\\n",
       "0                       0                      1                    4   \n",
       "1                       1                      1                    7   \n",
       "2                       0                      0                    3   \n",
       "3                       0                      1                    4   \n",
       "4                       0                      0                    4   \n",
       "\n",
       "   Total Funds Managed  Chequing Balance  Savings Balance  \\\n",
       "0                400.0             300.0              NaN   \n",
       "1              82600.0           39700.0            200.0   \n",
       "2              15000.0            1300.0              0.0   \n",
       "3              19000.0            1700.0              NaN   \n",
       "4               3500.0            1500.0              NaN   \n",
       "\n",
       "   Credit Card Balance Client Attrited  \n",
       "0                  NaN              No  \n",
       "1                  0.0              No  \n",
       "2              12000.0              No  \n",
       "3               6500.0              No  \n",
       "4               1000.0              No  "
      ]
     },
     "execution_count": 8,
     "metadata": {},
     "output_type": "execute_result"
    }
   ],
   "source": [
    "df.head()"
   ]
  },
  {
   "cell_type": "code",
   "execution_count": 9,
   "metadata": {},
   "outputs": [
    {
     "name": "stdout",
     "output_type": "stream",
     "text": [
      "<class 'pandas.core.frame.DataFrame'>\n",
      "RangeIndex: 11044 entries, 0 to 11043\n",
      "Data columns (total 19 columns):\n",
      " #   Column                       Non-Null Count  Dtype         \n",
      "---  ------                       --------------  -----         \n",
      " 0   Client ID                    11044 non-null  object        \n",
      " 1   Survey Response Date         11044 non-null  datetime64[ns]\n",
      " 2   Survey Response Channel      11044 non-null  object        \n",
      " 3   NPS Score                    11044 non-null  int64         \n",
      " 4   Client First Service Date    11044 non-null  datetime64[ns]\n",
      " 5   Age                          11044 non-null  object        \n",
      " 6   Gender                       11044 non-null  object        \n",
      " 7   Province                     11041 non-null  object        \n",
      " 8   High Value Client Indicator  11044 non-null  int64         \n",
      " 9   Has Credit Card              11044 non-null  int64         \n",
      " 10  Has Deposit Account          11044 non-null  int64         \n",
      " 11  Has Investment Account       11044 non-null  int64         \n",
      " 12  Has Borrowing Product        11044 non-null  int64         \n",
      " 13  Total Product Count          11044 non-null  int64         \n",
      " 14  Total Funds Managed          11024 non-null  float64       \n",
      " 15  Chequing Balance             10085 non-null  float64       \n",
      " 16  Savings Balance              6552 non-null   float64       \n",
      " 17  Credit Card Balance          9249 non-null   float64       \n",
      " 18  Client Attrited              11044 non-null  object        \n",
      "dtypes: datetime64[ns](2), float64(4), int64(7), object(6)\n",
      "memory usage: 1.6+ MB\n"
     ]
    }
   ],
   "source": [
    "df.info()"
   ]
  },
  {
   "cell_type": "code",
   "execution_count": 10,
   "metadata": {},
   "outputs": [
    {
     "name": "stdout",
     "output_type": "stream",
     "text": [
      "<class 'pandas.core.frame.DataFrame'>\n",
      "RangeIndex: 11044 entries, 0 to 11043\n",
      "Data columns (total 51 columns):\n",
      " #   Column                          Non-Null Count  Dtype         \n",
      "---  ------                          --------------  -----         \n",
      " 0   Client ID                       11044 non-null  object        \n",
      " 1   Survey Response Date            11044 non-null  datetime64[ns]\n",
      " 2   NPS Score                       11044 non-null  int64         \n",
      " 3   Client First Service Date       11044 non-null  datetime64[ns]\n",
      " 4   High Value Client Indicator     11044 non-null  int64         \n",
      " 5   Has Credit Card                 11044 non-null  int64         \n",
      " 6   Has Deposit Account             11044 non-null  int64         \n",
      " 7   Has Investment Account          11044 non-null  int64         \n",
      " 8   Has Borrowing Product           11044 non-null  int64         \n",
      " 9   Total Product Count             11044 non-null  int64         \n",
      " 10  Total Funds Managed             11044 non-null  float64       \n",
      " 11  Chequing Balance                11044 non-null  float64       \n",
      " 12  Savings Balance                 11044 non-null  float64       \n",
      " 13  Credit Card Balance             11044 non-null  float64       \n",
      " 14  Client Attrited                 11044 non-null  int64         \n",
      " 15  Customer Tenure                 11044 non-null  float64       \n",
      " 16  Survey Response Channel_Online  11044 non-null  bool          \n",
      " 17  Age_19 to 35                    11044 non-null  bool          \n",
      " 18  Age_36 to 50                    11044 non-null  bool          \n",
      " 19  Age_51 to 65                    11044 non-null  bool          \n",
      " 20  Age_66 to 70                    11044 non-null  bool          \n",
      " 21  Age_71 to 75                    11044 non-null  bool          \n",
      " 22  Age_76 to 80                    11044 non-null  bool          \n",
      " 23  Age_81 to 85                    11044 non-null  bool          \n",
      " 24  Age_85+                         11044 non-null  bool          \n",
      " 25  Age_No Age                      11044 non-null  bool          \n",
      " 26  Gender_M                        11044 non-null  bool          \n",
      " 27  Gender_U                        11044 non-null  bool          \n",
      " 28  Province_AZ                     11044 non-null  bool          \n",
      " 29  Province_BC                     11044 non-null  bool          \n",
      " 30  Province_CA                     11044 non-null  bool          \n",
      " 31  Province_CO                     11044 non-null  bool          \n",
      " 32  Province_FL                     11044 non-null  bool          \n",
      " 33  Province_GA                     11044 non-null  bool          \n",
      " 34  Province_IL                     11044 non-null  bool          \n",
      " 35  Province_MB                     11044 non-null  bool          \n",
      " 36  Province_MD                     11044 non-null  bool          \n",
      " 37  Province_MI                     11044 non-null  bool          \n",
      " 38  Province_NB                     11044 non-null  bool          \n",
      " 39  Province_NC                     11044 non-null  bool          \n",
      " 40  Province_NJ                     11044 non-null  bool          \n",
      " 41  Province_NL                     11044 non-null  bool          \n",
      " 42  Province_NS                     11044 non-null  bool          \n",
      " 43  Province_NT                     11044 non-null  bool          \n",
      " 44  Province_NU                     11044 non-null  bool          \n",
      " 45  Province_NY                     11044 non-null  bool          \n",
      " 46  Province_ON                     11044 non-null  bool          \n",
      " 47  Province_PA                     11044 non-null  bool          \n",
      " 48  Province_PE                     11044 non-null  bool          \n",
      " 49  Province_SK                     11044 non-null  bool          \n",
      " 50  Province_YT                     11044 non-null  bool          \n",
      "dtypes: bool(35), datetime64[ns](2), float64(5), int64(8), object(1)\n",
      "memory usage: 1.7+ MB\n",
      "None\n",
      "          Client ID Survey Response Date  NPS Score Client First Service Date  \\\n",
      "0  939L4933M74330OZ           2024-02-25          0                1985-01-17   \n",
      "1  429I6439D19572YJ           2024-01-24          9                1988-01-26   \n",
      "2  920A8054B28169QO           2024-05-22          9                2019-01-13   \n",
      "3  957H8335M34557RI           2023-12-08         10                1998-01-03   \n",
      "4  490W8554J38739BQ           2024-07-29          8                1987-01-08   \n",
      "\n",
      "   High Value Client Indicator  Has Credit Card  Has Deposit Account  \\\n",
      "0                            0                0                    1   \n",
      "1                            0                1                    1   \n",
      "2                            0                1                    1   \n",
      "3                            0                1                    1   \n",
      "4                            0                1                    1   \n",
      "\n",
      "   Has Investment Account  Has Borrowing Product  Total Product Count  ...  \\\n",
      "0                       0                      1                    4  ...   \n",
      "1                       1                      1                    7  ...   \n",
      "2                       0                      0                    3  ...   \n",
      "3                       0                      1                    4  ...   \n",
      "4                       0                      0                    4  ...   \n",
      "\n",
      "   Province_NL  Province_NS  Province_NT  Province_NU  Province_NY  \\\n",
      "0        False        False        False        False        False   \n",
      "1        False        False        False        False        False   \n",
      "2        False         True        False        False        False   \n",
      "3        False        False        False        False        False   \n",
      "4        False        False        False        False        False   \n",
      "\n",
      "   Province_ON  Province_PA  Province_PE  Province_SK  Province_YT  \n",
      "0         True        False        False        False        False  \n",
      "1        False        False        False        False        False  \n",
      "2        False        False        False        False        False  \n",
      "3         True        False        False        False        False  \n",
      "4        False        False        False        False        False  \n",
      "\n",
      "[5 rows x 51 columns]\n"
     ]
    }
   ],
   "source": [
    "import numpy as np\n",
    "\n",
    "# Convert date columns\n",
    "df['Survey Response Date'] = pd.to_datetime(df['Survey Response Date'])\n",
    "df['Client First Service Date'] = pd.to_datetime(df['Client First Service Date'])\n",
    "\n",
    "# Create a new feature: Customer Tenure in Years\n",
    "df['Customer Tenure'] = (df['Survey Response Date'] - df['Client First Service Date']).dt.days / 365\n",
    "\n",
    "# Convert 'Client Attrited' to binary (Yes = 1, No = 0)\n",
    "df['Client Attrited'] = df['Client Attrited'].map({'Yes': 1, 'No': 0})\n",
    "\n",
    "# Handle missing numerical values (replace with median)\n",
    "numerical_cols = ['Total Funds Managed', 'Chequing Balance', 'Savings Balance', 'Credit Card Balance']\n",
    "df[numerical_cols] = df[numerical_cols].fillna(df[numerical_cols].median())\n",
    "\n",
    "# One-hot encode categorical columns (remove one to avoid multicollinearity)\n",
    "df = pd.get_dummies(df, columns=['Survey Response Channel', 'Age', 'Gender', 'Province'], drop_first=True)\n",
    "\n",
    "# Display dataset info after preprocessing\n",
    "print(df.info())\n",
    "print(df.head())\n"
   ]
  },
  {
   "cell_type": "code",
   "execution_count": 11,
   "metadata": {},
   "outputs": [],
   "source": [
    "from scipy.stats import ttest_ind"
   ]
  },
  {
   "cell_type": "code",
   "execution_count": 12,
   "metadata": {},
   "outputs": [],
   "source": [
    "# --- 1. Calculate Estimated Customer Effort Score (CES) ---\n",
    "# Normalize relevant features for CES calculation\n",
    "df['CES_Estimate'] = (\n",
    "    (df['Total Product Count'] / df['Total Product Count'].max()) * 3 +  # More products = lower effort\n",
    "    (df['Total Funds Managed'] / df['Total Funds Managed'].max()) * 2 +  # Higher funds = lower effort\n",
    "    (df['Has Borrowing Product'] * 1) +  # Borrowing may increase effort\n",
    "    (df['Has Credit Card'] * 1)  # More accounts may indicate higher effort\n",
    ")\n"
   ]
  },
  {
   "cell_type": "code",
   "execution_count": 13,
   "metadata": {},
   "outputs": [],
   "source": [
    "# Scale CES to a 1-7 scale\n",
    "df['CES_Estimate'] = 7 - (df['CES_Estimate'] / df['CES_Estimate'].max()) * 6\n"
   ]
  },
  {
   "cell_type": "code",
   "execution_count": 14,
   "metadata": {},
   "outputs": [],
   "source": [
    "# --- 2. Calculate Customer Satisfaction Score (CSAT) ---\n",
    "def nps_to_csat(nps):\n",
    "    if nps >= 9:\n",
    "        return np.random.uniform(80, 100)  # Promoters\n",
    "    elif nps >= 7:\n",
    "        return np.random.uniform(60, 79)   # Passives\n",
    "    else:\n",
    "        return np.random.uniform(0, 59)    # Detractors\n",
    "\n",
    "df['CSAT_Score'] = df['NPS Score'].apply(nps_to_csat)\n"
   ]
  },
  {
   "cell_type": "code",
   "execution_count": 15,
   "metadata": {},
   "outputs": [],
   "source": [
    "# --- 3. A/B Testing: High vs. Low Product Engagement ---\n",
    "high_engagement = df[df['Total Product Count'] >= df['Total Product Count'].median()]['NPS Score']\n",
    "low_engagement = df[df['Total Product Count'] < df['Total Product Count'].median()]['NPS Score']\n",
    "\n",
    "# Perform independent t-test to compare means\n",
    "t_stat, p_value = ttest_ind(high_engagement, low_engagement, equal_var=False)\n"
   ]
  },
  {
   "cell_type": "code",
   "execution_count": 16,
   "metadata": {},
   "outputs": [
    {
     "name": "stdout",
     "output_type": "stream",
     "text": [
      "Correlation between CES & NPS: -0.0653917667384722\n",
      "Correlation between CSAT & NPS: 0.8540506943674891\n",
      "A/B Test - T-Statistic: 5.953510841619261\n",
      "A/B Test - P-Value: 2.709766534621598e-09\n"
     ]
    }
   ],
   "source": [
    "# Display results\n",
    "ces_summary = df[['NPS Score', 'CES_Estimate']].corr().iloc[0, 1]\n",
    "csat_summary = df[['NPS Score', 'CSAT_Score']].corr().iloc[0, 1]\n",
    "\n",
    "print(\"Correlation between CES & NPS:\", ces_summary)\n",
    "print(\"Correlation between CSAT & NPS:\", csat_summary)\n",
    "print(\"A/B Test - T-Statistic:\", t_stat)\n",
    "print(\"A/B Test - P-Value:\", p_value)"
   ]
  },
  {
   "cell_type": "markdown",
   "metadata": {},
   "source": [
    "CES (Customer Effort Score) vs. NPS\n",
    "Correlation: -0.065 (-6.5%) (Weak negative correlation)\n",
    "This means lower effort (CES) does not strongly correlate with higher NPS.\n",
    "Customers do not seem to rate NPS solely based on ease of service.\n",
    ". CSAT (Customer Satisfaction Score) vs. NPS\n",
    "Correlation: 0.85 (85%) (Strong positive correlation)\n",
    "Higher NPS scores are highly linked to higher CSAT scores.\n",
    "This confirms that NPS is a strong indicator of overall customer satisfaction.\n",
    " A/B Testing: Impact of Product Engagement on NPS\n",
    "T-Statistic: 5.95 (Large effect)\n",
    "P-Value: 2.7e-09 (Highly significant)\n",
    "Customers with more banking products have significantly higher NPS scores.\n",
    "Conclusion: Encouraging multi-product adoption increases customer loyalty and satisfaction.\n"
   ]
  },
  {
   "cell_type": "code",
   "execution_count": 17,
   "metadata": {},
   "outputs": [],
   "source": [
    "import matplotlib.pyplot as plt\n",
    "import seaborn as sns\n",
    "\n",
    "# Set Seaborn style\n",
    "sns.set_theme(style=\"whitegrid\")"
   ]
  },
  {
   "cell_type": "code",
   "execution_count": 18,
   "metadata": {},
   "outputs": [
    {
     "name": "stderr",
     "output_type": "stream",
     "text": [
      "C:\\Users\\sreej\\AppData\\Local\\Temp\\ipykernel_22980\\262275467.py:7: UserWarning: FigureCanvasAgg is non-interactive, and thus cannot be shown\n",
      "  plt.show()\n"
     ]
    }
   ],
   "source": [
    "# --- 1. Scatter Plot: NPS vs. CES ---\n",
    "plt.figure(figsize=(8, 5))\n",
    "sns.scatterplot(x=df['NPS Score'], y=df['CES_Estimate'], alpha=0.5)\n",
    "plt.title(\"NPS Score vs. Customer Effort Score (CES)\")\n",
    "plt.xlabel(\"NPS Score\")\n",
    "plt.ylabel(\"CES Estimate\")\n",
    "plt.show()"
   ]
  },
  {
   "cell_type": "code",
   "execution_count": 19,
   "metadata": {},
   "outputs": [
    {
     "name": "stderr",
     "output_type": "stream",
     "text": [
      "C:\\Users\\sreej\\AppData\\Local\\Temp\\ipykernel_22980\\2865035030.py:7: UserWarning: FigureCanvasAgg is non-interactive, and thus cannot be shown\n",
      "  plt.show()\n"
     ]
    }
   ],
   "source": [
    "# --- 2. Scatter Plot: NPS vs. CSAT ---\n",
    "plt.figure(figsize=(8, 5))\n",
    "sns.scatterplot(x=df['NPS Score'], y=df['CSAT_Score'], alpha=0.5, color=\"orange\")\n",
    "plt.title(\"NPS Score vs. Customer Satisfaction Score (CSAT)\")\n",
    "plt.xlabel(\"NPS Score\")\n",
    "plt.ylabel(\"CSAT Score\")\n",
    "plt.show()"
   ]
  },
  {
   "cell_type": "code",
   "execution_count": 20,
   "metadata": {},
   "outputs": [
    {
     "name": "stderr",
     "output_type": "stream",
     "text": [
      "C:\\Users\\sreej\\AppData\\Local\\Temp\\ipykernel_22980\\4140505176.py:3: FutureWarning: \n",
      "\n",
      "Passing `palette` without assigning `hue` is deprecated and will be removed in v0.14.0. Assign the `x` variable to `hue` and set `legend=False` for the same effect.\n",
      "\n",
      "  sns.boxplot(x=pd.cut(df['Total Product Count'], bins=[0, df['Total Product Count'].median(), df['Total Product Count'].max()], labels=[\"Low Engagement\", \"High Engagement\"]),\n",
      "C:\\Users\\sreej\\AppData\\Local\\Temp\\ipykernel_22980\\4140505176.py:8: UserWarning: FigureCanvasAgg is non-interactive, and thus cannot be shown\n",
      "  plt.show()\n"
     ]
    }
   ],
   "source": [
    "# --- 3. Box Plot: A/B Test (High vs. Low Engagement) ---\n",
    "plt.figure(figsize=(8, 5))\n",
    "sns.boxplot(x=pd.cut(df['Total Product Count'], bins=[0, df['Total Product Count'].median(), df['Total Product Count'].max()], labels=[\"Low Engagement\", \"High Engagement\"]),\n",
    "            y=df['NPS Score'], palette=[\"red\", \"green\"])\n",
    "plt.title(\"NPS Score Distribution by Product Engagement\")\n",
    "plt.xlabel(\"Customer Engagement Level\")\n",
    "plt.ylabel(\"NPS Score\")\n",
    "plt.show()"
   ]
  },
  {
   "cell_type": "markdown",
   "metadata": {},
   "source": [
    "Interpretation of the Visualizations\n",
    "1. NPS vs. CES (Customer Effort Score)\n",
    "📉 Observation:\n",
    "\n",
    "The scatter plot shows no strong pattern between NPS and CES.\n",
    "CES values are spread across all NPS scores.\n",
    "This confirms that customer effort does not significantly influence NPS scores.\n",
    "📌 Business Insight:\n",
    "\n",
    "While reducing effort may improve customer experience, it is not the primary driver of NPS.\n",
    "Other factors like product quality, service experience, and pricing may be more influential.\n",
    "2. NPS vs. CSAT (Customer Satisfaction Score)\n",
    "📈 Observation:\n",
    "\n",
    "Strong positive relationship: Higher NPS correlates with higher CSAT scores.\n",
    "Promoters (9-10 NPS) have high satisfaction (80-100%).\n",
    "Detractors (0-6 NPS) show widely varying satisfaction, with some very low scores.\n",
    "📌 Business Insight:\n",
    "\n",
    "NPS is a strong predictor of overall customer satisfaction.\n",
    "Businesses should focus on converting passives and detractors into promoters to improve retention.\n",
    "3. A/B Testing: NPS by Customer Engagement\n",
    "📊 Observation:\n",
    "\n",
    "Customers with higher engagement (more banking products) tend to have higher NPS.\n",
    "Low engagement customers have more detractors (NPS < 7).\n",
    "Statistical test (p-value < 0.00001) confirms that the difference is significant.\n",
    "📌 Business Insight:\n",
    "\n",
    "Cross-selling financial products can improve customer loyalty and satisfaction.\n",
    "CIBC should create personalized product bundles to increase engagement."
   ]
  },
  {
   "cell_type": "code",
   "execution_count": 21,
   "metadata": {},
   "outputs": [
    {
     "name": "stderr",
     "output_type": "stream",
     "text": [
      "C:\\Users\\sreej\\AppData\\Local\\Temp\\ipykernel_22980\\2894588952.py:7: FutureWarning: \n",
      "\n",
      "Passing `palette` without assigning `hue` is deprecated and will be removed in v0.14.0. Assign the `x` variable to `hue` and set `legend=False` for the same effect.\n",
      "\n",
      "  sns.boxplot(x=df[\"Survey Response Channel_Online\"], y=df[\"NPS Score\"], palette=[\"blue\", \"orange\"])\n",
      "C:\\Users\\sreej\\AppData\\Local\\Temp\\ipykernel_22980\\2894588952.py:11: UserWarning: FigureCanvasAgg is non-interactive, and thus cannot be shown\n",
      "  plt.show()\n"
     ]
    }
   ],
   "source": [
    "import seaborn as sns\n",
    "import matplotlib.pyplot as plt\n",
    "from scipy.stats import ttest_ind\n",
    "\n",
    "# --- 1. Boxplot: NPS Score by Survey Response Channel ---\n",
    "plt.figure(figsize=(8, 5))\n",
    "sns.boxplot(x=df[\"Survey Response Channel_Online\"], y=df[\"NPS Score\"], palette=[\"blue\", \"orange\"])\n",
    "plt.title(\"NPS Score Distribution by Survey Response Channel\")\n",
    "plt.xlabel(\"Survey Response Channel (0 = Mobile, 1 = Online)\")\n",
    "plt.ylabel(\"NPS Score\")\n",
    "plt.show()"
   ]
  },
  {
   "cell_type": "code",
   "execution_count": 22,
   "metadata": {},
   "outputs": [],
   "source": [
    "# --- 2. Compare Mean NPS Scores for Mobile vs. Online ---\n",
    "mobile_nps = df[df[\"Survey Response Channel_Online\"] == 0][\"NPS Score\"]\n",
    "online_nps = df[df[\"Survey Response Channel_Online\"] == 1][\"NPS Score\"]\n",
    "\n",
    "mobile_mean = mobile_nps.mean()\n",
    "online_mean = online_nps.mean()"
   ]
  },
  {
   "cell_type": "code",
   "execution_count": 23,
   "metadata": {},
   "outputs": [
    {
     "name": "stdout",
     "output_type": "stream",
     "text": [
      "📊 Average NPS Score for Mobile Users: 8.62\n",
      "📊 Average NPS Score for Online Users: 8.45\n",
      "📊 T-Statistic: 3.97, P-Value: 0.00007\n",
      "✅ The difference in NPS scores between Mobile and Online users is statistically significant.\n"
     ]
    }
   ],
   "source": [
    "# --- 3. T-test to Check Statistical Significance ---\n",
    "t_stat, p_value = ttest_ind(mobile_nps, online_nps, equal_var=False)\n",
    "\n",
    "# Print results\n",
    "print(f\"📊 Average NPS Score for Mobile Users: {mobile_mean:.2f}\")\n",
    "print(f\"📊 Average NPS Score for Online Users: {online_mean:.2f}\")\n",
    "print(f\"📊 T-Statistic: {t_stat:.2f}, P-Value: {p_value:.5f}\")\n",
    "\n",
    "if p_value < 0.05:\n",
    "    print(\"✅ The difference in NPS scores between Mobile and Online users is statistically significant.\")\n",
    "else:\n",
    "    print(\"❌ No significant difference in NPS scores between Mobile and Online users.\")"
   ]
  },
  {
   "cell_type": "code",
   "execution_count": 24,
   "metadata": {},
   "outputs": [
    {
     "ename": "SyntaxError",
     "evalue": "invalid character '📱' (U+1F4F1) (474541438.py, line 2)",
     "output_type": "error",
     "traceback": [
      "\u001b[1;36m  Cell \u001b[1;32mIn[24], line 2\u001b[1;36m\u001b[0m\n\u001b[1;33m    📱 Mobile Users (Avg NPS: 8.62) give higher NPS scores than 💻 Online Users (Avg NPS: 8.45).\u001b[0m\n\u001b[1;37m    ^\u001b[0m\n\u001b[1;31mSyntaxError\u001b[0m\u001b[1;31m:\u001b[0m invalid character '📱' (U+1F4F1)\n"
     ]
    }
   ],
   "source": [
    "1. NPS Score Differences\n",
    "📱 Mobile Users (Avg NPS: 8.62) give higher NPS scores than 💻 Online Users (Avg NPS: 8.45).\n",
    "The difference is statistically significant (p-value = 0.00007), meaning this is not random variation.\n",
    "2. Business Interpretation\n",
    "Mobile users are more likely to rate higher on NPS surveys, possibly due to:\n",
    "✅ Casual interactions on mobile leading to more favorable responses.\n",
    "✅ Frictionless mobile experience making interactions feel easier.\n",
    "✅ Online users may be more critical, as they often analyze services in-depth before responding.\n",
    "3. Business Recommendations for CIBC\n",
    "🚀 Leverage Mobile Engagement to Boost NPS Further:\n",
    "✔ Push more mobile-based customer interactions.\n",
    "✔ Enhance digital banking features for seamless mobile experience.\n",
    "✔ Promote mobile-first offers & loyalty programs.\n",
    "\n",
    "🚀 Improve Online Experience to Close the NPS Gap:\n",
    "✔ Investigate friction points for online users.\n",
    "✔ Personalize online banking recommendations.\n",
    "✔ Optimize survey timing for online respondents.\n",
    "\n"
   ]
  },
  {
   "cell_type": "code",
   "execution_count": 25,
   "metadata": {},
   "outputs": [
    {
     "name": "stderr",
     "output_type": "stream",
     "text": [
      "C:\\Users\\sreej\\AppData\\Local\\Temp\\ipykernel_22980\\645958739.py:6: FutureWarning: \n",
      "\n",
      "Passing `palette` without assigning `hue` is deprecated and will be removed in v0.14.0. Assign the `x` variable to `hue` and set `legend=False` for the same effect.\n",
      "\n",
      "  sns.boxplot(x=df[\"Client Attrited\"], y=df[\"Customer Tenure\"], palette=[\"green\", \"red\"])\n",
      "C:\\Users\\sreej\\AppData\\Local\\Temp\\ipykernel_22980\\645958739.py:10: UserWarning: FigureCanvasAgg is non-interactive, and thus cannot be shown\n",
      "  plt.show()\n"
     ]
    }
   ],
   "source": [
    "# Set plot style\n",
    "sns.set_theme(style=\"whitegrid\")\n",
    "\n",
    "# --- 1. Customer Tenure vs. NPS & Attrition ---\n",
    "plt.figure(figsize=(8, 5))\n",
    "sns.boxplot(x=df[\"Client Attrited\"], y=df[\"Customer Tenure\"], palette=[\"green\", \"red\"])\n",
    "plt.title(\"Customer Tenure vs. Attrition\")\n",
    "plt.xlabel(\"Attrition (0 = Retained, 1 = Attrited)\")\n",
    "plt.ylabel(\"Customer Tenure (Years)\")\n",
    "plt.show()\n"
   ]
  },
  {
   "cell_type": "markdown",
   "metadata": {},
   "source": [
    "1. Customer Tenure vs. Attrition\n",
    "📉 Observation:\n",
    "\n",
    "Longer-tenured customers have lower attrition rates.\n",
    "Attrited customers tend to have shorter tenures (~10 years median), while retained customers have longer relationships (~20+ years).\n",
    "Some high-tenure customers still attrite, but they are a minority.\n",
    "📌 Business Insight:\n",
    "\n",
    "Loyal customers are more likely to stay.\n",
    "Early-stage customers (0-10 years tenure) need targeted retention efforts.\n",
    "CIBC should create onboarding retention strategies to prevent early churn."
   ]
  },
  {
   "cell_type": "code",
   "execution_count": 26,
   "metadata": {},
   "outputs": [
    {
     "name": "stderr",
     "output_type": "stream",
     "text": [
      "C:\\Users\\sreej\\AppData\\Local\\Temp\\ipykernel_22980\\144042203.py:2: FutureWarning: \n",
      "\n",
      "Passing `palette` without assigning `hue` is deprecated and will be removed in v0.14.0. Assign the `x` variable to `hue` and set `legend=False` for the same effect.\n",
      "\n",
      "  sns.boxplot(x=df[\"NPS Score\"], y=df[\"Customer Tenure\"], palette=\"coolwarm\")\n",
      "C:\\Users\\sreej\\AppData\\Local\\Temp\\ipykernel_22980\\144042203.py:6: UserWarning: FigureCanvasAgg is non-interactive, and thus cannot be shown\n",
      "  plt.show()\n"
     ]
    }
   ],
   "source": [
    "plt.figure(figsize=(8, 5))\n",
    "sns.boxplot(x=df[\"NPS Score\"], y=df[\"Customer Tenure\"], palette=\"coolwarm\")\n",
    "plt.title(\"Customer Tenure vs. NPS Score\")\n",
    "plt.xlabel(\"NPS Score\")\n",
    "plt.ylabel(\"Customer Tenure (Years)\")\n",
    "plt.show()"
   ]
  },
  {
   "cell_type": "markdown",
   "metadata": {},
   "source": [
    "2. Customer Tenure vs. NPS Score\n",
    "📉 Observation:\n",
    "\n",
    "NPS Scores remain fairly stable across tenure levels.\n",
    "Longer-tenured customers do not necessarily have higher NPS scores.\n",
    "📌 Business Insight:\n",
    "\n",
    "Loyalty does not guarantee high satisfaction—long-term customers may stay for other reasons like switching costs.\n",
    "CIBC should ensure continuous engagement and product improvements to maintain satisfaction over time."
   ]
  },
  {
   "cell_type": "code",
   "execution_count": 27,
   "metadata": {},
   "outputs": [
    {
     "name": "stderr",
     "output_type": "stream",
     "text": [
      "C:\\Users\\sreej\\AppData\\Local\\Temp\\ipykernel_22980\\4193121820.py:3: FutureWarning: \n",
      "\n",
      "Passing `palette` without assigning `hue` is deprecated and will be removed in v0.14.0. Assign the `x` variable to `hue` and set `legend=False` for the same effect.\n",
      "\n",
      "  sns.boxplot(x=df[\"Client Attrited\"], y=df[\"Total Product Count\"], palette=[\"blue\", \"orange\"])\n",
      "C:\\Users\\sreej\\AppData\\Local\\Temp\\ipykernel_22980\\4193121820.py:7: UserWarning: FigureCanvasAgg is non-interactive, and thus cannot be shown\n",
      "  plt.show()\n"
     ]
    }
   ],
   "source": [
    "# --- 2. Total Products vs. Satisfaction & Attrition ---\n",
    "plt.figure(figsize=(8, 5))\n",
    "sns.boxplot(x=df[\"Client Attrited\"], y=df[\"Total Product Count\"], palette=[\"blue\", \"orange\"])\n",
    "plt.title(\"Total Product Count vs. Attrition\")\n",
    "plt.xlabel(\"Attrition (0 = Retained, 1 = Attrited)\")\n",
    "plt.ylabel(\"Total Product Count\")\n",
    "plt.show()"
   ]
  },
  {
   "cell_type": "markdown",
   "metadata": {},
   "source": [
    "3. Total Products vs. Attrition\n",
    "📉 Observation:\n",
    "\n",
    "Attrited customers have fewer products (~1-2) on average.\n",
    "Retained customers have more banking products (~5-6), with some extreme outliers owning 10+ products.\n",
    "📌 Business Insight:\n",
    "\n",
    "Higher product engagement reduces churn risk.\n",
    "CIBC should cross-sell financial products to encourage long-term loyalty.\n",
    "🚀 Actionable Recommendation:\n",
    "✔ Create personalized banking bundles to increase multi-product adoption.\n",
    "✔ Target single-product customers with engagement campaigns.\n",
    "\n"
   ]
  },
  {
   "cell_type": "code",
   "execution_count": 28,
   "metadata": {},
   "outputs": [
    {
     "name": "stderr",
     "output_type": "stream",
     "text": [
      "C:\\Users\\sreej\\AppData\\Local\\Temp\\ipykernel_22980\\4187816880.py:2: FutureWarning: \n",
      "\n",
      "Passing `palette` without assigning `hue` is deprecated and will be removed in v0.14.0. Assign the `x` variable to `hue` and set `legend=False` for the same effect.\n",
      "\n",
      "  sns.boxplot(x=df[\"NPS Score\"], y=df[\"Total Product Count\"], palette=\"coolwarm\")\n",
      "C:\\Users\\sreej\\AppData\\Local\\Temp\\ipykernel_22980\\4187816880.py:6: UserWarning: FigureCanvasAgg is non-interactive, and thus cannot be shown\n",
      "  plt.show()\n"
     ]
    }
   ],
   "source": [
    "plt.figure(figsize=(8, 5))\n",
    "sns.boxplot(x=df[\"NPS Score\"], y=df[\"Total Product Count\"], palette=\"coolwarm\")\n",
    "plt.title(\"Total Product Count vs. NPS Score\")\n",
    "plt.xlabel(\"NPS Score\")\n",
    "plt.ylabel(\"Total Product Count\")\n",
    "plt.show()"
   ]
  },
  {
   "cell_type": "markdown",
   "metadata": {},
   "source": [
    " Observation:\n",
    "\n",
    "Attrited customers have fewer products (~1-2) on average.\n",
    "Retained customers have more banking products (~5-6), with some extreme outliers owning 10+ products.\n",
    "📌 Business Insight:\n",
    "\n",
    "Higher product engagement reduces churn risk.\n",
    "CIBC should cross-sell financial products to encourage long-term loyalty.\n",
    "🚀 Actionable Recommendation:\n",
    "✔ Create personalized banking bundles to increase multi-product adoption.\n",
    "✔ Target single-product customers with engagement campaigns.\n",
    "\n"
   ]
  },
  {
   "cell_type": "code",
   "execution_count": 29,
   "metadata": {},
   "outputs": [
    {
     "name": "stderr",
     "output_type": "stream",
     "text": [
      "C:\\Users\\sreej\\AppData\\Local\\Temp\\ipykernel_22980\\2069949525.py:3: FutureWarning: \n",
      "\n",
      "Passing `palette` without assigning `hue` is deprecated and will be removed in v0.14.0. Assign the `x` variable to `hue` and set `legend=False` for the same effect.\n",
      "\n",
      "  sns.boxplot(x=df[\"Client Attrited\"], y=df[\"Credit Card Balance\"], palette=[\"purple\", \"yellow\"])\n",
      "C:\\Users\\sreej\\AppData\\Local\\Temp\\ipykernel_22980\\2069949525.py:8: UserWarning: FigureCanvasAgg is non-interactive, and thus cannot be shown\n",
      "  plt.show()\n"
     ]
    }
   ],
   "source": [
    "# --- 3. Credit Balance vs. Attrition & NPS ---\n",
    "plt.figure(figsize=(8, 5))\n",
    "sns.boxplot(x=df[\"Client Attrited\"], y=df[\"Credit Card Balance\"], palette=[\"purple\", \"yellow\"])\n",
    "plt.title(\"Credit Card Balance vs. Attrition\")\n",
    "plt.ylim(0, df[\"Credit Card Balance\"].quantile(0.95))  # Remove extreme outliers\n",
    "plt.xlabel(\"Attrition (0 = Retained, 1 = Attrited)\")\n",
    "plt.ylabel(\"Credit Card Balance ($)\")\n",
    "plt.show()"
   ]
  },
  {
   "cell_type": "markdown",
   "metadata": {},
   "source": [
    "4. Credit Card Balance vs. Attrition\n",
    "📉 Observation:\n",
    "\n",
    "Customers with low credit balances tend to churn more.\n",
    "Retained customers have higher median credit balances (~$2000).\n",
    "Attrited customers generally have balances below $500.\n",
    "📌 Business Insight:\n",
    "\n",
    "Customers who use credit services actively are more engaged and less likely to leave.\n",
    "Low-balance customers may need more incentives to stay.\n",
    "🚀 Actionable Recommendation:\n",
    "✔ CIBC should introduce loyalty rewards for credit users.\n",
    "✔ Offer higher-limit upgrades for engaged credit users.\n",
    "\n"
   ]
  },
  {
   "cell_type": "code",
   "execution_count": 30,
   "metadata": {},
   "outputs": [
    {
     "name": "stderr",
     "output_type": "stream",
     "text": [
      "C:\\Users\\sreej\\AppData\\Local\\Temp\\ipykernel_22980\\405695258.py:2: FutureWarning: \n",
      "\n",
      "Passing `palette` without assigning `hue` is deprecated and will be removed in v0.14.0. Assign the `x` variable to `hue` and set `legend=False` for the same effect.\n",
      "\n",
      "  sns.boxplot(x=df[\"NPS Score\"], y=df[\"Credit Card Balance\"], palette=\"coolwarm\")\n",
      "C:\\Users\\sreej\\AppData\\Local\\Temp\\ipykernel_22980\\405695258.py:7: UserWarning: FigureCanvasAgg is non-interactive, and thus cannot be shown\n",
      "  plt.show()\n"
     ]
    }
   ],
   "source": [
    "plt.figure(figsize=(8, 5))\n",
    "sns.boxplot(x=df[\"NPS Score\"], y=df[\"Credit Card Balance\"], palette=\"coolwarm\")\n",
    "plt.title(\"Credit Card Balance vs. NPS Score\")\n",
    "plt.ylim(0, df[\"Credit Card Balance\"].quantile(0.95))  # Remove extreme outliers\n",
    "plt.xlabel(\"NPS Score\")\n",
    "plt.ylabel(\"Credit Card Balance ($)\")\n",
    "plt.show()"
   ]
  },
  {
   "cell_type": "markdown",
   "metadata": {},
   "source": [
    " Credit Card Balance vs. NPS Score\n",
    "📉 Observation:\n",
    "\n",
    "NPS Scores are widely spread across all credit balances.\n",
    "Customers with higher credit balances (~$5K+) tend to have slightly higher NPS.\n",
    "No strong pattern, meaning that high-spending customers are not necessarily more satisfied.\n",
    "📌 Business Insight:\n",
    "\n",
    "High financial engagement does not automatically lead to higher NPS.\n",
    "CIBC must focus on experience and service quality rather than just financial offerings."
   ]
  },
  {
   "cell_type": "code",
   "execution_count": 31,
   "metadata": {},
   "outputs": [
    {
     "name": "stdout",
     "output_type": "stream",
     "text": [
      "Requirement already satisfied: shap in c:\\users\\sreej\\appdata\\local\\programs\\python\\python310\\lib\\site-packages (0.46.0)\n",
      "Requirement already satisfied: numpy in c:\\users\\sreej\\appdata\\local\\programs\\python\\python310\\lib\\site-packages (from shap) (1.26.4)\n",
      "Requirement already satisfied: scipy in c:\\users\\sreej\\appdata\\local\\programs\\python\\python310\\lib\\site-packages (from shap) (1.13.1)\n",
      "Requirement already satisfied: scikit-learn in c:\\users\\sreej\\appdata\\local\\programs\\python\\python310\\lib\\site-packages (from shap) (1.6.1)\n",
      "Requirement already satisfied: pandas in c:\\users\\sreej\\appdata\\local\\programs\\python\\python310\\lib\\site-packages (from shap) (2.2.3)\n",
      "Requirement already satisfied: tqdm>=4.27.0 in c:\\users\\sreej\\appdata\\local\\programs\\python\\python310\\lib\\site-packages (from shap) (4.67.1)\n",
      "Requirement already satisfied: packaging>20.9 in c:\\users\\sreej\\appdata\\roaming\\python\\python310\\site-packages (from shap) (24.2)\n",
      "Requirement already satisfied: slicer==0.0.8 in c:\\users\\sreej\\appdata\\local\\programs\\python\\python310\\lib\\site-packages (from shap) (0.0.8)\n",
      "Requirement already satisfied: numba in c:\\users\\sreej\\appdata\\local\\programs\\python\\python310\\lib\\site-packages (from shap) (0.60.0)\n",
      "Requirement already satisfied: cloudpickle in c:\\users\\sreej\\appdata\\local\\programs\\python\\python310\\lib\\site-packages (from shap) (3.1.1)\n",
      "Requirement already satisfied: colorama in c:\\users\\sreej\\appdata\\roaming\\python\\python310\\site-packages (from tqdm>=4.27.0->shap) (0.4.6)\n",
      "Requirement already satisfied: llvmlite<0.44,>=0.43.0dev0 in c:\\users\\sreej\\appdata\\local\\programs\\python\\python310\\lib\\site-packages (from numba->shap) (0.43.0)\n",
      "Requirement already satisfied: python-dateutil>=2.8.2 in c:\\users\\sreej\\appdata\\roaming\\python\\python310\\site-packages (from pandas->shap) (2.9.0.post0)\n",
      "Requirement already satisfied: pytz>=2020.1 in c:\\users\\sreej\\appdata\\local\\programs\\python\\python310\\lib\\site-packages (from pandas->shap) (2024.2)\n",
      "Requirement already satisfied: tzdata>=2022.7 in c:\\users\\sreej\\appdata\\local\\programs\\python\\python310\\lib\\site-packages (from pandas->shap) (2024.2)\n",
      "Requirement already satisfied: joblib>=1.2.0 in c:\\users\\sreej\\appdata\\local\\programs\\python\\python310\\lib\\site-packages (from scikit-learn->shap) (1.4.2)\n",
      "Requirement already satisfied: threadpoolctl>=3.1.0 in c:\\users\\sreej\\appdata\\local\\programs\\python\\python310\\lib\\site-packages (from scikit-learn->shap) (3.5.0)\n",
      "Requirement already satisfied: six>=1.5 in c:\\users\\sreej\\appdata\\roaming\\python\\python310\\site-packages (from python-dateutil>=2.8.2->pandas->shap) (1.17.0)\n",
      "Note: you may need to restart the kernel to use updated packages.\n"
     ]
    },
    {
     "name": "stderr",
     "output_type": "stream",
     "text": [
      "WARNING: Ignoring invalid distribution -rotobuf (c:\\users\\sreej\\appdata\\local\\programs\\python\\python310\\lib\\site-packages)\n",
      "WARNING: Ignoring invalid distribution -rotobuf (c:\\users\\sreej\\appdata\\local\\programs\\python\\python310\\lib\\site-packages)\n",
      "WARNING: Ignoring invalid distribution -rotobuf (c:\\users\\sreej\\appdata\\local\\programs\\python\\python310\\lib\\site-packages)\n"
     ]
    }
   ],
   "source": [
    "pip install shap"
   ]
  },
  {
   "cell_type": "code",
   "execution_count": 32,
   "metadata": {},
   "outputs": [
    {
     "name": "stderr",
     "output_type": "stream",
     "text": [
      "c:\\Users\\sreej\\AppData\\Local\\Programs\\Python\\Python310\\lib\\site-packages\\tqdm\\auto.py:21: TqdmWarning: IProgress not found. Please update jupyter and ipywidgets. See https://ipywidgets.readthedocs.io/en/stable/user_install.html\n",
      "  from .autonotebook import tqdm as notebook_tqdm\n"
     ]
    }
   ],
   "source": [
    "import pandas as pd\n",
    "import numpy as np\n",
    "import matplotlib.pyplot as plt\n",
    "import seaborn as sns\n",
    "from sklearn.model_selection import train_test_split\n",
    "from sklearn.ensemble import RandomForestClassifier\n",
    "from sklearn.metrics import accuracy_score, precision_score, recall_score, f1_score, classification_report\n",
    "import shap"
   ]
  },
  {
   "cell_type": "code",
   "execution_count": 33,
   "metadata": {},
   "outputs": [],
   "source": [
    "# Define features (X) and target variable (y)\n",
    "features = ['NPS Score', 'Customer Tenure', 'Total Product Count', 'Credit Card Balance', 'Survey Response Channel_Online']\n",
    "X = df[features]\n",
    "y = df['Client Attrited']  # Target variable (1 = Attrited, 0 = Retained)\n"
   ]
  },
  {
   "cell_type": "code",
   "execution_count": 34,
   "metadata": {},
   "outputs": [
    {
     "data": {
      "text/html": [
       "<style>#sk-container-id-1 {\n",
       "  /* Definition of color scheme common for light and dark mode */\n",
       "  --sklearn-color-text: #000;\n",
       "  --sklearn-color-text-muted: #666;\n",
       "  --sklearn-color-line: gray;\n",
       "  /* Definition of color scheme for unfitted estimators */\n",
       "  --sklearn-color-unfitted-level-0: #fff5e6;\n",
       "  --sklearn-color-unfitted-level-1: #f6e4d2;\n",
       "  --sklearn-color-unfitted-level-2: #ffe0b3;\n",
       "  --sklearn-color-unfitted-level-3: chocolate;\n",
       "  /* Definition of color scheme for fitted estimators */\n",
       "  --sklearn-color-fitted-level-0: #f0f8ff;\n",
       "  --sklearn-color-fitted-level-1: #d4ebff;\n",
       "  --sklearn-color-fitted-level-2: #b3dbfd;\n",
       "  --sklearn-color-fitted-level-3: cornflowerblue;\n",
       "\n",
       "  /* Specific color for light theme */\n",
       "  --sklearn-color-text-on-default-background: var(--sg-text-color, var(--theme-code-foreground, var(--jp-content-font-color1, black)));\n",
       "  --sklearn-color-background: var(--sg-background-color, var(--theme-background, var(--jp-layout-color0, white)));\n",
       "  --sklearn-color-border-box: var(--sg-text-color, var(--theme-code-foreground, var(--jp-content-font-color1, black)));\n",
       "  --sklearn-color-icon: #696969;\n",
       "\n",
       "  @media (prefers-color-scheme: dark) {\n",
       "    /* Redefinition of color scheme for dark theme */\n",
       "    --sklearn-color-text-on-default-background: var(--sg-text-color, var(--theme-code-foreground, var(--jp-content-font-color1, white)));\n",
       "    --sklearn-color-background: var(--sg-background-color, var(--theme-background, var(--jp-layout-color0, #111)));\n",
       "    --sklearn-color-border-box: var(--sg-text-color, var(--theme-code-foreground, var(--jp-content-font-color1, white)));\n",
       "    --sklearn-color-icon: #878787;\n",
       "  }\n",
       "}\n",
       "\n",
       "#sk-container-id-1 {\n",
       "  color: var(--sklearn-color-text);\n",
       "}\n",
       "\n",
       "#sk-container-id-1 pre {\n",
       "  padding: 0;\n",
       "}\n",
       "\n",
       "#sk-container-id-1 input.sk-hidden--visually {\n",
       "  border: 0;\n",
       "  clip: rect(1px 1px 1px 1px);\n",
       "  clip: rect(1px, 1px, 1px, 1px);\n",
       "  height: 1px;\n",
       "  margin: -1px;\n",
       "  overflow: hidden;\n",
       "  padding: 0;\n",
       "  position: absolute;\n",
       "  width: 1px;\n",
       "}\n",
       "\n",
       "#sk-container-id-1 div.sk-dashed-wrapped {\n",
       "  border: 1px dashed var(--sklearn-color-line);\n",
       "  margin: 0 0.4em 0.5em 0.4em;\n",
       "  box-sizing: border-box;\n",
       "  padding-bottom: 0.4em;\n",
       "  background-color: var(--sklearn-color-background);\n",
       "}\n",
       "\n",
       "#sk-container-id-1 div.sk-container {\n",
       "  /* jupyter's `normalize.less` sets `[hidden] { display: none; }`\n",
       "     but bootstrap.min.css set `[hidden] { display: none !important; }`\n",
       "     so we also need the `!important` here to be able to override the\n",
       "     default hidden behavior on the sphinx rendered scikit-learn.org.\n",
       "     See: https://github.com/scikit-learn/scikit-learn/issues/21755 */\n",
       "  display: inline-block !important;\n",
       "  position: relative;\n",
       "}\n",
       "\n",
       "#sk-container-id-1 div.sk-text-repr-fallback {\n",
       "  display: none;\n",
       "}\n",
       "\n",
       "div.sk-parallel-item,\n",
       "div.sk-serial,\n",
       "div.sk-item {\n",
       "  /* draw centered vertical line to link estimators */\n",
       "  background-image: linear-gradient(var(--sklearn-color-text-on-default-background), var(--sklearn-color-text-on-default-background));\n",
       "  background-size: 2px 100%;\n",
       "  background-repeat: no-repeat;\n",
       "  background-position: center center;\n",
       "}\n",
       "\n",
       "/* Parallel-specific style estimator block */\n",
       "\n",
       "#sk-container-id-1 div.sk-parallel-item::after {\n",
       "  content: \"\";\n",
       "  width: 100%;\n",
       "  border-bottom: 2px solid var(--sklearn-color-text-on-default-background);\n",
       "  flex-grow: 1;\n",
       "}\n",
       "\n",
       "#sk-container-id-1 div.sk-parallel {\n",
       "  display: flex;\n",
       "  align-items: stretch;\n",
       "  justify-content: center;\n",
       "  background-color: var(--sklearn-color-background);\n",
       "  position: relative;\n",
       "}\n",
       "\n",
       "#sk-container-id-1 div.sk-parallel-item {\n",
       "  display: flex;\n",
       "  flex-direction: column;\n",
       "}\n",
       "\n",
       "#sk-container-id-1 div.sk-parallel-item:first-child::after {\n",
       "  align-self: flex-end;\n",
       "  width: 50%;\n",
       "}\n",
       "\n",
       "#sk-container-id-1 div.sk-parallel-item:last-child::after {\n",
       "  align-self: flex-start;\n",
       "  width: 50%;\n",
       "}\n",
       "\n",
       "#sk-container-id-1 div.sk-parallel-item:only-child::after {\n",
       "  width: 0;\n",
       "}\n",
       "\n",
       "/* Serial-specific style estimator block */\n",
       "\n",
       "#sk-container-id-1 div.sk-serial {\n",
       "  display: flex;\n",
       "  flex-direction: column;\n",
       "  align-items: center;\n",
       "  background-color: var(--sklearn-color-background);\n",
       "  padding-right: 1em;\n",
       "  padding-left: 1em;\n",
       "}\n",
       "\n",
       "\n",
       "/* Toggleable style: style used for estimator/Pipeline/ColumnTransformer box that is\n",
       "clickable and can be expanded/collapsed.\n",
       "- Pipeline and ColumnTransformer use this feature and define the default style\n",
       "- Estimators will overwrite some part of the style using the `sk-estimator` class\n",
       "*/\n",
       "\n",
       "/* Pipeline and ColumnTransformer style (default) */\n",
       "\n",
       "#sk-container-id-1 div.sk-toggleable {\n",
       "  /* Default theme specific background. It is overwritten whether we have a\n",
       "  specific estimator or a Pipeline/ColumnTransformer */\n",
       "  background-color: var(--sklearn-color-background);\n",
       "}\n",
       "\n",
       "/* Toggleable label */\n",
       "#sk-container-id-1 label.sk-toggleable__label {\n",
       "  cursor: pointer;\n",
       "  display: flex;\n",
       "  width: 100%;\n",
       "  margin-bottom: 0;\n",
       "  padding: 0.5em;\n",
       "  box-sizing: border-box;\n",
       "  text-align: center;\n",
       "  align-items: start;\n",
       "  justify-content: space-between;\n",
       "  gap: 0.5em;\n",
       "}\n",
       "\n",
       "#sk-container-id-1 label.sk-toggleable__label .caption {\n",
       "  font-size: 0.6rem;\n",
       "  font-weight: lighter;\n",
       "  color: var(--sklearn-color-text-muted);\n",
       "}\n",
       "\n",
       "#sk-container-id-1 label.sk-toggleable__label-arrow:before {\n",
       "  /* Arrow on the left of the label */\n",
       "  content: \"▸\";\n",
       "  float: left;\n",
       "  margin-right: 0.25em;\n",
       "  color: var(--sklearn-color-icon);\n",
       "}\n",
       "\n",
       "#sk-container-id-1 label.sk-toggleable__label-arrow:hover:before {\n",
       "  color: var(--sklearn-color-text);\n",
       "}\n",
       "\n",
       "/* Toggleable content - dropdown */\n",
       "\n",
       "#sk-container-id-1 div.sk-toggleable__content {\n",
       "  max-height: 0;\n",
       "  max-width: 0;\n",
       "  overflow: hidden;\n",
       "  text-align: left;\n",
       "  /* unfitted */\n",
       "  background-color: var(--sklearn-color-unfitted-level-0);\n",
       "}\n",
       "\n",
       "#sk-container-id-1 div.sk-toggleable__content.fitted {\n",
       "  /* fitted */\n",
       "  background-color: var(--sklearn-color-fitted-level-0);\n",
       "}\n",
       "\n",
       "#sk-container-id-1 div.sk-toggleable__content pre {\n",
       "  margin: 0.2em;\n",
       "  border-radius: 0.25em;\n",
       "  color: var(--sklearn-color-text);\n",
       "  /* unfitted */\n",
       "  background-color: var(--sklearn-color-unfitted-level-0);\n",
       "}\n",
       "\n",
       "#sk-container-id-1 div.sk-toggleable__content.fitted pre {\n",
       "  /* unfitted */\n",
       "  background-color: var(--sklearn-color-fitted-level-0);\n",
       "}\n",
       "\n",
       "#sk-container-id-1 input.sk-toggleable__control:checked~div.sk-toggleable__content {\n",
       "  /* Expand drop-down */\n",
       "  max-height: 200px;\n",
       "  max-width: 100%;\n",
       "  overflow: auto;\n",
       "}\n",
       "\n",
       "#sk-container-id-1 input.sk-toggleable__control:checked~label.sk-toggleable__label-arrow:before {\n",
       "  content: \"▾\";\n",
       "}\n",
       "\n",
       "/* Pipeline/ColumnTransformer-specific style */\n",
       "\n",
       "#sk-container-id-1 div.sk-label input.sk-toggleable__control:checked~label.sk-toggleable__label {\n",
       "  color: var(--sklearn-color-text);\n",
       "  background-color: var(--sklearn-color-unfitted-level-2);\n",
       "}\n",
       "\n",
       "#sk-container-id-1 div.sk-label.fitted input.sk-toggleable__control:checked~label.sk-toggleable__label {\n",
       "  background-color: var(--sklearn-color-fitted-level-2);\n",
       "}\n",
       "\n",
       "/* Estimator-specific style */\n",
       "\n",
       "/* Colorize estimator box */\n",
       "#sk-container-id-1 div.sk-estimator input.sk-toggleable__control:checked~label.sk-toggleable__label {\n",
       "  /* unfitted */\n",
       "  background-color: var(--sklearn-color-unfitted-level-2);\n",
       "}\n",
       "\n",
       "#sk-container-id-1 div.sk-estimator.fitted input.sk-toggleable__control:checked~label.sk-toggleable__label {\n",
       "  /* fitted */\n",
       "  background-color: var(--sklearn-color-fitted-level-2);\n",
       "}\n",
       "\n",
       "#sk-container-id-1 div.sk-label label.sk-toggleable__label,\n",
       "#sk-container-id-1 div.sk-label label {\n",
       "  /* The background is the default theme color */\n",
       "  color: var(--sklearn-color-text-on-default-background);\n",
       "}\n",
       "\n",
       "/* On hover, darken the color of the background */\n",
       "#sk-container-id-1 div.sk-label:hover label.sk-toggleable__label {\n",
       "  color: var(--sklearn-color-text);\n",
       "  background-color: var(--sklearn-color-unfitted-level-2);\n",
       "}\n",
       "\n",
       "/* Label box, darken color on hover, fitted */\n",
       "#sk-container-id-1 div.sk-label.fitted:hover label.sk-toggleable__label.fitted {\n",
       "  color: var(--sklearn-color-text);\n",
       "  background-color: var(--sklearn-color-fitted-level-2);\n",
       "}\n",
       "\n",
       "/* Estimator label */\n",
       "\n",
       "#sk-container-id-1 div.sk-label label {\n",
       "  font-family: monospace;\n",
       "  font-weight: bold;\n",
       "  display: inline-block;\n",
       "  line-height: 1.2em;\n",
       "}\n",
       "\n",
       "#sk-container-id-1 div.sk-label-container {\n",
       "  text-align: center;\n",
       "}\n",
       "\n",
       "/* Estimator-specific */\n",
       "#sk-container-id-1 div.sk-estimator {\n",
       "  font-family: monospace;\n",
       "  border: 1px dotted var(--sklearn-color-border-box);\n",
       "  border-radius: 0.25em;\n",
       "  box-sizing: border-box;\n",
       "  margin-bottom: 0.5em;\n",
       "  /* unfitted */\n",
       "  background-color: var(--sklearn-color-unfitted-level-0);\n",
       "}\n",
       "\n",
       "#sk-container-id-1 div.sk-estimator.fitted {\n",
       "  /* fitted */\n",
       "  background-color: var(--sklearn-color-fitted-level-0);\n",
       "}\n",
       "\n",
       "/* on hover */\n",
       "#sk-container-id-1 div.sk-estimator:hover {\n",
       "  /* unfitted */\n",
       "  background-color: var(--sklearn-color-unfitted-level-2);\n",
       "}\n",
       "\n",
       "#sk-container-id-1 div.sk-estimator.fitted:hover {\n",
       "  /* fitted */\n",
       "  background-color: var(--sklearn-color-fitted-level-2);\n",
       "}\n",
       "\n",
       "/* Specification for estimator info (e.g. \"i\" and \"?\") */\n",
       "\n",
       "/* Common style for \"i\" and \"?\" */\n",
       "\n",
       ".sk-estimator-doc-link,\n",
       "a:link.sk-estimator-doc-link,\n",
       "a:visited.sk-estimator-doc-link {\n",
       "  float: right;\n",
       "  font-size: smaller;\n",
       "  line-height: 1em;\n",
       "  font-family: monospace;\n",
       "  background-color: var(--sklearn-color-background);\n",
       "  border-radius: 1em;\n",
       "  height: 1em;\n",
       "  width: 1em;\n",
       "  text-decoration: none !important;\n",
       "  margin-left: 0.5em;\n",
       "  text-align: center;\n",
       "  /* unfitted */\n",
       "  border: var(--sklearn-color-unfitted-level-1) 1pt solid;\n",
       "  color: var(--sklearn-color-unfitted-level-1);\n",
       "}\n",
       "\n",
       ".sk-estimator-doc-link.fitted,\n",
       "a:link.sk-estimator-doc-link.fitted,\n",
       "a:visited.sk-estimator-doc-link.fitted {\n",
       "  /* fitted */\n",
       "  border: var(--sklearn-color-fitted-level-1) 1pt solid;\n",
       "  color: var(--sklearn-color-fitted-level-1);\n",
       "}\n",
       "\n",
       "/* On hover */\n",
       "div.sk-estimator:hover .sk-estimator-doc-link:hover,\n",
       ".sk-estimator-doc-link:hover,\n",
       "div.sk-label-container:hover .sk-estimator-doc-link:hover,\n",
       ".sk-estimator-doc-link:hover {\n",
       "  /* unfitted */\n",
       "  background-color: var(--sklearn-color-unfitted-level-3);\n",
       "  color: var(--sklearn-color-background);\n",
       "  text-decoration: none;\n",
       "}\n",
       "\n",
       "div.sk-estimator.fitted:hover .sk-estimator-doc-link.fitted:hover,\n",
       ".sk-estimator-doc-link.fitted:hover,\n",
       "div.sk-label-container:hover .sk-estimator-doc-link.fitted:hover,\n",
       ".sk-estimator-doc-link.fitted:hover {\n",
       "  /* fitted */\n",
       "  background-color: var(--sklearn-color-fitted-level-3);\n",
       "  color: var(--sklearn-color-background);\n",
       "  text-decoration: none;\n",
       "}\n",
       "\n",
       "/* Span, style for the box shown on hovering the info icon */\n",
       ".sk-estimator-doc-link span {\n",
       "  display: none;\n",
       "  z-index: 9999;\n",
       "  position: relative;\n",
       "  font-weight: normal;\n",
       "  right: .2ex;\n",
       "  padding: .5ex;\n",
       "  margin: .5ex;\n",
       "  width: min-content;\n",
       "  min-width: 20ex;\n",
       "  max-width: 50ex;\n",
       "  color: var(--sklearn-color-text);\n",
       "  box-shadow: 2pt 2pt 4pt #999;\n",
       "  /* unfitted */\n",
       "  background: var(--sklearn-color-unfitted-level-0);\n",
       "  border: .5pt solid var(--sklearn-color-unfitted-level-3);\n",
       "}\n",
       "\n",
       ".sk-estimator-doc-link.fitted span {\n",
       "  /* fitted */\n",
       "  background: var(--sklearn-color-fitted-level-0);\n",
       "  border: var(--sklearn-color-fitted-level-3);\n",
       "}\n",
       "\n",
       ".sk-estimator-doc-link:hover span {\n",
       "  display: block;\n",
       "}\n",
       "\n",
       "/* \"?\"-specific style due to the `<a>` HTML tag */\n",
       "\n",
       "#sk-container-id-1 a.estimator_doc_link {\n",
       "  float: right;\n",
       "  font-size: 1rem;\n",
       "  line-height: 1em;\n",
       "  font-family: monospace;\n",
       "  background-color: var(--sklearn-color-background);\n",
       "  border-radius: 1rem;\n",
       "  height: 1rem;\n",
       "  width: 1rem;\n",
       "  text-decoration: none;\n",
       "  /* unfitted */\n",
       "  color: var(--sklearn-color-unfitted-level-1);\n",
       "  border: var(--sklearn-color-unfitted-level-1) 1pt solid;\n",
       "}\n",
       "\n",
       "#sk-container-id-1 a.estimator_doc_link.fitted {\n",
       "  /* fitted */\n",
       "  border: var(--sklearn-color-fitted-level-1) 1pt solid;\n",
       "  color: var(--sklearn-color-fitted-level-1);\n",
       "}\n",
       "\n",
       "/* On hover */\n",
       "#sk-container-id-1 a.estimator_doc_link:hover {\n",
       "  /* unfitted */\n",
       "  background-color: var(--sklearn-color-unfitted-level-3);\n",
       "  color: var(--sklearn-color-background);\n",
       "  text-decoration: none;\n",
       "}\n",
       "\n",
       "#sk-container-id-1 a.estimator_doc_link.fitted:hover {\n",
       "  /* fitted */\n",
       "  background-color: var(--sklearn-color-fitted-level-3);\n",
       "}\n",
       "</style><div id=\"sk-container-id-1\" class=\"sk-top-container\"><div class=\"sk-text-repr-fallback\"><pre>RandomForestClassifier(class_weight=&#x27;balanced&#x27;, random_state=42)</pre><b>In a Jupyter environment, please rerun this cell to show the HTML representation or trust the notebook. <br />On GitHub, the HTML representation is unable to render, please try loading this page with nbviewer.org.</b></div><div class=\"sk-container\" hidden><div class=\"sk-item\"><div class=\"sk-estimator fitted sk-toggleable\"><input class=\"sk-toggleable__control sk-hidden--visually\" id=\"sk-estimator-id-1\" type=\"checkbox\" checked><label for=\"sk-estimator-id-1\" class=\"sk-toggleable__label fitted sk-toggleable__label-arrow\"><div><div>RandomForestClassifier</div></div><div><a class=\"sk-estimator-doc-link fitted\" rel=\"noreferrer\" target=\"_blank\" href=\"https://scikit-learn.org/1.6/modules/generated/sklearn.ensemble.RandomForestClassifier.html\">?<span>Documentation for RandomForestClassifier</span></a><span class=\"sk-estimator-doc-link fitted\">i<span>Fitted</span></span></div></label><div class=\"sk-toggleable__content fitted\"><pre>RandomForestClassifier(class_weight=&#x27;balanced&#x27;, random_state=42)</pre></div> </div></div></div></div>"
      ],
      "text/plain": [
       "RandomForestClassifier(class_weight='balanced', random_state=42)"
      ]
     },
     "execution_count": 34,
     "metadata": {},
     "output_type": "execute_result"
    }
   ],
   "source": [
    "# Split dataset into training (80%) and testing (20%)\n",
    "X_train, X_test, y_train, y_test = train_test_split(X, y, test_size=0.2, random_state=42, stratify=y)\n",
    "\n",
    "# Train a Random Forest model\n",
    "rf_model = RandomForestClassifier(n_estimators=100, random_state=42, class_weight=\"balanced\")\n",
    "rf_model.fit(X_train, y_train)"
   ]
  },
  {
   "cell_type": "code",
   "execution_count": 35,
   "metadata": {},
   "outputs": [],
   "source": [
    "# Make predictions\n",
    "y_pred = rf_model.predict(X_test)\n"
   ]
  },
  {
   "cell_type": "code",
   "execution_count": 36,
   "metadata": {},
   "outputs": [],
   "source": [
    "# Evaluate the model\n",
    "accuracy = accuracy_score(y_test, y_pred)\n",
    "precision = precision_score(y_test, y_pred)\n",
    "recall = recall_score(y_test, y_pred)\n",
    "f1 = f1_score(y_test, y_pred)\n"
   ]
  },
  {
   "cell_type": "code",
   "execution_count": 37,
   "metadata": {},
   "outputs": [
    {
     "name": "stdout",
     "output_type": "stream",
     "text": [
      "✅ Model Performance:\n",
      "Accuracy: 0.9959257582616569\n",
      "Precision: 0.0\n",
      "Recall: 0.0\n",
      "F1-score: 0.0\n",
      "\n",
      "Classification Report:\n",
      "               precision    recall  f1-score   support\n",
      "\n",
      "           0       1.00      1.00      1.00      2202\n",
      "           1       0.00      0.00      0.00         7\n",
      "\n",
      "    accuracy                           1.00      2209\n",
      "   macro avg       0.50      0.50      0.50      2209\n",
      "weighted avg       0.99      1.00      0.99      2209\n",
      "\n"
     ]
    }
   ],
   "source": [
    "# Display classification report\n",
    "classification_rep = classification_report(y_test, y_pred)\n",
    "\n",
    "# Print results\n",
    "print(\"✅ Model Performance:\")\n",
    "print(\"Accuracy:\", accuracy)\n",
    "print(\"Precision:\", precision)\n",
    "print(\"Recall:\", recall)\n",
    "print(\"F1-score:\", f1)\n",
    "print(\"\\nClassification Report:\\n\", classification_rep)\n",
    "\n",
    "# --- Feature Importance Analysis ---\n",
    "feature_importances = pd.DataFrame({\"Feature\": X.columns, \"Importance\": rf_model.feature_importances_})\n",
    "feature_importances = feature_importances.sort_values(by=\"Importance\", ascending=False)"
   ]
  },
  {
   "cell_type": "code",
   "execution_count": 38,
   "metadata": {},
   "outputs": [
    {
     "name": "stdout",
     "output_type": "stream",
     "text": [
      "NPS Score                           int64\n",
      "Customer Tenure                   float64\n",
      "Total Product Count                 int64\n",
      "Credit Card Balance               float64\n",
      "Survey Response Channel_Online      int32\n",
      "dtype: object\n"
     ]
    }
   ],
   "source": [
    "# Convert categorical column 'Survey Response Channel_Online' to integer\n",
    "df[\"Survey Response Channel_Online\"] = df[\"Survey Response Channel_Online\"].astype(int)\n",
    "\n",
    "# Define features (X) and target variable (y)\n",
    "features = ['NPS Score', 'Customer Tenure', 'Total Product Count', 'Credit Card Balance', 'Survey Response Channel_Online']\n",
    "X = df[features]\n",
    "y = df['Client Attrited']\n",
    "\n",
    "# Ensure all columns are numeric\n",
    "print(X.dtypes)  # Check that all features are now numeric\n"
   ]
  },
  {
   "cell_type": "code",
   "execution_count": 39,
   "metadata": {},
   "outputs": [
    {
     "name": "stdout",
     "output_type": "stream",
     "text": [
      "NPS Score                           int64\n",
      "Customer Tenure                   float64\n",
      "Total Product Count                 int64\n",
      "Credit Card Balance               float64\n",
      "Survey Response Channel_Online      int32\n",
      "dtype: object\n"
     ]
    }
   ],
   "source": [
    "# Convert boolean column to integer\n",
    "X_train[\"Survey Response Channel_Online\"] = X_train[\"Survey Response Channel_Online\"].astype(int)\n",
    "X_test[\"Survey Response Channel_Online\"] = X_test[\"Survey Response Channel_Online\"].astype(int)\n",
    "\n",
    "# Check data types again\n",
    "print(X_train.dtypes)\n"
   ]
  },
  {
   "cell_type": "code",
   "execution_count": 40,
   "metadata": {},
   "outputs": [
    {
     "name": "stdout",
     "output_type": "stream",
     "text": [
      "SHAP Values Shape: (2209, 5, 2)\n",
      "X_test Shape: (2209, 5)\n"
     ]
    },
    {
     "name": "stderr",
     "output_type": "stream",
     "text": [
      "c:\\Users\\sreej\\AppData\\Local\\Programs\\Python\\Python310\\lib\\site-packages\\shap\\plots\\_beeswarm.py:627: UserWarning: FigureCanvasAgg is non-interactive, and thus cannot be shown\n",
      "  pl.show()\n"
     ]
    }
   ],
   "source": [
    "import shap\n",
    "\n",
    "# Use TreeExplainer for RandomForest\n",
    "explainer = shap.TreeExplainer(rf_model)\n",
    "shap_values = explainer.shap_values(X_test)\n",
    "\n",
    "# Check the shape of SHAP values and X_test\n",
    "print(\"SHAP Values Shape:\", np.array(shap_values).shape)\n",
    "print(\"X_test Shape:\", X_test.shape)\n",
    "\n",
    "# Ensure the shapes match\n",
    "if len(shap_values) == 2:  # If the model is binary classification\n",
    "    shap.summary_plot(shap_values[1], X_test)  # Use class 1 (Attrited)\n",
    "else:\n",
    "    shap.summary_plot(shap_values, X_test)  # Use directly if single output\n"
   ]
  },
  {
   "cell_type": "code",
   "execution_count": 41,
   "metadata": {},
   "outputs": [
    {
     "name": "stderr",
     "output_type": "stream",
     "text": [
      "C:\\Users\\sreej\\AppData\\Local\\Temp\\ipykernel_22980\\706241084.py:3: FutureWarning: \n",
      "\n",
      "Passing `palette` without assigning `hue` is deprecated and will be removed in v0.14.0. Assign the `y` variable to `hue` and set `legend=False` for the same effect.\n",
      "\n",
      "  sns.barplot(x=feature_importances[\"Importance\"], y=feature_importances[\"Feature\"], palette=\"viridis\")\n",
      "C:\\Users\\sreej\\AppData\\Local\\Temp\\ipykernel_22980\\706241084.py:7: UserWarning: FigureCanvasAgg is non-interactive, and thus cannot be shown\n",
      "  plt.show()\n"
     ]
    }
   ],
   "source": [
    "# Plot feature importance\n",
    "plt.figure(figsize=(8, 5))\n",
    "sns.barplot(x=feature_importances[\"Importance\"], y=feature_importances[\"Feature\"], palette=\"viridis\")\n",
    "plt.title(\"Feature Importance for Customer Attrition Prediction\")\n",
    "plt.xlabel(\"Importance Score\")\n",
    "plt.ylabel(\"Feature\")\n",
    "plt.show()\n",
    "\n",
    "\n"
   ]
  },
  {
   "cell_type": "code",
   "execution_count": 42,
   "metadata": {},
   "outputs": [
    {
     "name": "stdout",
     "output_type": "stream",
     "text": [
      "NPS Score                           int64\n",
      "Customer Tenure                   float64\n",
      "Total Product Count                 int64\n",
      "Credit Card Balance               float64\n",
      "Survey Response Channel_Online      int32\n",
      "dtype: object\n"
     ]
    }
   ],
   "source": [
    "print(X_train.dtypes)\n"
   ]
  },
  {
   "cell_type": "code",
   "execution_count": 43,
   "metadata": {},
   "outputs": [
    {
     "name": "stderr",
     "output_type": "stream",
     "text": [
      "c:\\Users\\sreej\\AppData\\Local\\Programs\\Python\\Python310\\lib\\site-packages\\sklearn\\base.py:474: FutureWarning: `BaseEstimator._validate_data` is deprecated in 1.6 and will be removed in 1.7. Use `sklearn.utils.validation.validate_data` instead. This function becomes public and is part of the scikit-learn developer API.\n",
      "  warnings.warn(\n"
     ]
    }
   ],
   "source": [
    "from imblearn.over_sampling import SMOTE\n",
    "from sklearn.utils.class_weight import compute_class_weight\n",
    "\n",
    "# Apply SMOTE to generate synthetic churn cases\n",
    "smote = SMOTE(sampling_strategy=0.5, random_state=42)  # 50% of majority class\n",
    "X_resampled, y_resampled = smote.fit_resample(X_train, y_train)\n",
    "\n"
   ]
  },
  {
   "cell_type": "code",
   "execution_count": 44,
   "metadata": {},
   "outputs": [
    {
     "name": "stdout",
     "output_type": "stream",
     "text": [
      "y_train Type: <class 'pandas.core.series.Series'>\n",
      "y_train Shape: (8835,)\n",
      "Unique Classes in y_train: [0 1]\n",
      "✅ Computed Class Weights: {0: 0.5017035775127768, 1: 147.25}\n"
     ]
    }
   ],
   "source": [
    "from sklearn.utils.class_weight import compute_class_weight\n",
    "import numpy as np\n",
    "\n",
    "# 🔹 Print y_train details\n",
    "print(f\"y_train Type: {type(y_train)}\")  # Check type\n",
    "print(f\"y_train Shape: {np.shape(y_train)}\")  # Check shape\n",
    "print(f\"Unique Classes in y_train: {np.unique(y_train)}\")  # Check unique values\n",
    "\n",
    "# 🔹 Ensure y_train is a proper NumPy array\n",
    "y_train = np.array(y_train).flatten()  # Flatten in case it's multi-dimensional\n",
    "\n",
    "# 🔹 Ensure class labels are in NumPy format\n",
    "class_labels = np.unique(y_train)  # Dynamically get classes\n",
    "\n",
    "# 🔹 Compute class weights\n",
    "class_weights = compute_class_weight(class_weight='balanced', classes=class_labels, y=y_train)\n",
    "\n",
    "# 🔹 Convert to dictionary for RandomForest\n",
    "class_weight_dict = dict(zip(class_labels, class_weights))\n",
    "\n",
    "# ✅ Print computed class weights\n",
    "print(\"✅ Computed Class Weights:\", class_weight_dict)\n"
   ]
  },
  {
   "cell_type": "code",
   "execution_count": 45,
   "metadata": {},
   "outputs": [
    {
     "name": "stdout",
     "output_type": "stream",
     "text": [
      "✅ Model Performance After Balancing:\n",
      "Accuracy: 0.9959\n",
      "Precision: 0.0000\n",
      "Recall: 0.0000\n",
      "F1-score: 0.0000\n",
      "\n",
      "Classification Report:\n",
      "               precision    recall  f1-score   support\n",
      "\n",
      "           0       1.00      1.00      1.00      2202\n",
      "           1       0.00      0.00      0.00         7\n",
      "\n",
      "    accuracy                           1.00      2209\n",
      "   macro avg       0.50      0.50      0.50      2209\n",
      "weighted avg       0.99      1.00      0.99      2209\n",
      "\n"
     ]
    }
   ],
   "source": [
    "from sklearn.ensemble import RandomForestClassifier\n",
    "from sklearn.metrics import accuracy_score, precision_score, recall_score, f1_score, classification_report\n",
    "\n",
    "# 🔹 Train the model with computed class weights\n",
    "rf_model_balanced = RandomForestClassifier(n_estimators=100, random_state=42, class_weight=class_weight_dict)\n",
    "rf_model_balanced.fit(X_train, y_train)\n",
    "\n",
    "# 🔹 Make predictions\n",
    "y_pred_balanced = rf_model_balanced.predict(X_test)\n",
    "\n",
    "# 🔹 Evaluate the model\n",
    "accuracy = accuracy_score(y_test, y_pred_balanced)\n",
    "precision = precision_score(y_test, y_pred_balanced)\n",
    "recall = recall_score(y_test, y_pred_balanced)\n",
    "f1 = f1_score(y_test, y_pred_balanced)\n",
    "\n",
    "# 🔹 Print results\n",
    "print(\"✅ Model Performance After Balancing:\")\n",
    "print(f\"Accuracy: {accuracy:.4f}\")\n",
    "print(f\"Precision: {precision:.4f}\")\n",
    "print(f\"Recall: {recall:.4f}\")\n",
    "print(f\"F1-score: {f1:.4f}\")\n",
    "print(\"\\nClassification Report:\\n\", classification_report(y_test, y_pred_balanced))\n"
   ]
  },
  {
   "cell_type": "code",
   "execution_count": 46,
   "metadata": {},
   "outputs": [
    {
     "name": "stderr",
     "output_type": "stream",
     "text": [
      "c:\\Users\\sreej\\AppData\\Local\\Programs\\Python\\Python310\\lib\\site-packages\\sklearn\\base.py:474: FutureWarning: `BaseEstimator._validate_data` is deprecated in 1.6 and will be removed in 1.7. Use `sklearn.utils.validation.validate_data` instead. This function becomes public and is part of the scikit-learn developer API.\n",
      "  warnings.warn(\n"
     ]
    },
    {
     "name": "stdout",
     "output_type": "stream",
     "text": [
      "✅ Model Performance After SMOTE:\n",
      "Accuracy: 0.9769\n",
      "Precision: 0.0217\n",
      "Recall: 0.1429\n",
      "F1-score: 0.0377\n",
      "\n",
      "Classification Report:\n",
      "               precision    recall  f1-score   support\n",
      "\n",
      "           0       1.00      0.98      0.99      2202\n",
      "           1       0.02      0.14      0.04         7\n",
      "\n",
      "    accuracy                           0.98      2209\n",
      "   macro avg       0.51      0.56      0.51      2209\n",
      "weighted avg       0.99      0.98      0.99      2209\n",
      "\n"
     ]
    }
   ],
   "source": [
    "from imblearn.over_sampling import SMOTE\n",
    "from sklearn.ensemble import RandomForestClassifier\n",
    "from sklearn.metrics import accuracy_score, precision_score, recall_score, f1_score, classification_report\n",
    "\n",
    "# Apply SMOTE to balance the dataset\n",
    "smote = SMOTE(sampling_strategy=0.5, random_state=42)  # Generate 50% churned cases\n",
    "X_resampled, y_resampled = smote.fit_resample(X_train, y_train)\n",
    "\n",
    "# Train the model on balanced data\n",
    "rf_model_smote = RandomForestClassifier(n_estimators=100, random_state=42)\n",
    "rf_model_smote.fit(X_resampled, y_resampled)\n",
    "\n",
    "# Make predictions\n",
    "y_pred_smote = rf_model_smote.predict(X_test)\n",
    "\n",
    "# Evaluate the model\n",
    "accuracy = accuracy_score(y_test, y_pred_smote)\n",
    "precision = precision_score(y_test, y_pred_smote)\n",
    "recall = recall_score(y_test, y_pred_smote)\n",
    "f1 = f1_score(y_test, y_pred_smote)\n",
    "\n",
    "# Print results\n",
    "print(\"✅ Model Performance After SMOTE:\")\n",
    "print(f\"Accuracy: {accuracy:.4f}\")\n",
    "print(f\"Precision: {precision:.4f}\")\n",
    "print(f\"Recall: {recall:.4f}\")\n",
    "print(f\"F1-score: {f1:.4f}\")\n",
    "print(\"\\nClassification Report:\\n\", classification_report(y_test, y_pred_smote))\n"
   ]
  },
  {
   "cell_type": "code",
   "execution_count": 47,
   "metadata": {},
   "outputs": [
    {
     "name": "stdout",
     "output_type": "stream",
     "text": [
      "✅ Model Performance After Threshold Adjustment:\n",
      "Accuracy: 0.9719\n",
      "Precision: 0.0339\n",
      "Recall: 0.2857\n",
      "F1-score: 0.0606\n",
      "\n",
      "Classification Report:\n",
      "               precision    recall  f1-score   support\n",
      "\n",
      "           0       1.00      0.97      0.99      2202\n",
      "           1       0.03      0.29      0.06         7\n",
      "\n",
      "    accuracy                           0.97      2209\n",
      "   macro avg       0.52      0.63      0.52      2209\n",
      "weighted avg       0.99      0.97      0.98      2209\n",
      "\n"
     ]
    }
   ],
   "source": [
    "from sklearn.metrics import precision_recall_curve\n",
    "\n",
    "# Get predicted probabilities instead of class labels\n",
    "y_pred_probs = rf_model_smote.predict_proba(X_test)[:, 1]  # Probability of churn (class 1)\n",
    "\n",
    "# Set a lower threshold (e.g., 0.3)\n",
    "threshold = 0.3\n",
    "y_pred_adjusted = (y_pred_probs >= threshold).astype(int)\n",
    "\n",
    "# Evaluate model with new threshold\n",
    "accuracy = accuracy_score(y_test, y_pred_adjusted)\n",
    "precision = precision_score(y_test, y_pred_adjusted)\n",
    "recall = recall_score(y_test, y_pred_adjusted)\n",
    "f1 = f1_score(y_test, y_pred_adjusted)\n",
    "\n",
    "# Print updated results\n",
    "print(\"✅ Model Performance After Threshold Adjustment:\")\n",
    "print(f\"Accuracy: {accuracy:.4f}\")\n",
    "print(f\"Precision: {precision:.4f}\")\n",
    "print(f\"Recall: {recall:.4f}\")\n",
    "print(f\"F1-score: {f1:.4f}\")\n",
    "print(\"\\nClassification Report:\\n\", classification_report(y_test, y_pred_adjusted))\n"
   ]
  },
  {
   "cell_type": "code",
   "execution_count": 48,
   "metadata": {},
   "outputs": [
    {
     "name": "stderr",
     "output_type": "stream",
     "text": [
      "C:\\Users\\sreej\\AppData\\Local\\Temp\\ipykernel_22980\\3228858001.py:20: UserWarning: FigureCanvasAgg is non-interactive, and thus cannot be shown\n",
      "  plt.show()\n"
     ]
    }
   ],
   "source": [
    "import numpy as np\n",
    "import matplotlib.pyplot as plt\n",
    "from sklearn.metrics import precision_recall_curve\n",
    "\n",
    "# Get predicted probabilities\n",
    "y_pred_probs = rf_model_smote.predict_proba(X_test)[:, 1]\n",
    "\n",
    "# Compute precision-recall curve\n",
    "precisions, recalls, thresholds = precision_recall_curve(y_test, y_pred_probs)\n",
    "\n",
    "# Plot Precision-Recall vs Threshold\n",
    "plt.figure(figsize=(8, 5))\n",
    "plt.plot(thresholds, precisions[:-1], label=\"Precision\", linestyle=\"--\")\n",
    "plt.plot(thresholds, recalls[:-1], label=\"Recall\")\n",
    "plt.xlabel(\"Threshold\")\n",
    "plt.ylabel(\"Score\")\n",
    "plt.title(\"Precision-Recall Curve to Optimize Threshold\")\n",
    "plt.legend()\n",
    "plt.grid()\n",
    "plt.show()\n"
   ]
  },
  {
   "cell_type": "code",
   "execution_count": 49,
   "metadata": {},
   "outputs": [
    {
     "name": "stdout",
     "output_type": "stream",
     "text": [
      "✅ Model Performance After Optimized Threshold:\n",
      "Accuracy: 0.9692\n",
      "Precision: 0.0308\n",
      "Recall: 0.2857\n",
      "F1-score: 0.0556\n",
      "\n",
      "Classification Report:\n",
      "               precision    recall  f1-score   support\n",
      "\n",
      "           0       1.00      0.97      0.98      2202\n",
      "           1       0.03      0.29      0.06         7\n",
      "\n",
      "    accuracy                           0.97      2209\n",
      "   macro avg       0.51      0.63      0.52      2209\n",
      "weighted avg       0.99      0.97      0.98      2209\n",
      "\n"
     ]
    }
   ],
   "source": [
    "# Set an optimized threshold (adjust based on your plot)\n",
    "optimal_threshold = 0.25\n",
    "\n",
    "# Apply the threshold to get final predictions\n",
    "y_pred_optimized = (y_pred_probs >= optimal_threshold).astype(int)\n",
    "\n",
    "# Evaluate model with optimized threshold\n",
    "accuracy = accuracy_score(y_test, y_pred_optimized)\n",
    "precision = precision_score(y_test, y_pred_optimized)\n",
    "recall = recall_score(y_test, y_pred_optimized)\n",
    "f1 = f1_score(y_test, y_pred_optimized)\n",
    "\n",
    "# Print updated results\n",
    "print(\"✅ Model Performance After Optimized Threshold:\")\n",
    "print(f\"Accuracy: {accuracy:.4f}\")\n",
    "print(f\"Precision: {precision:.4f}\")\n",
    "print(f\"Recall: {recall:.4f}\")\n",
    "print(f\"F1-score: {f1:.4f}\")\n",
    "print(\"\\nClassification Report:\\n\", classification_report(y_test, y_pred_optimized))\n"
   ]
  },
  {
   "cell_type": "code",
   "execution_count": 50,
   "metadata": {},
   "outputs": [
    {
     "name": "stdout",
     "output_type": "stream",
     "text": [
      "📉 Estimated Total Revenue Loss Due to Churn: $461,900.00\n",
      "📊 Estimated Revenue Saved by Model: $131,971.43\n",
      "🎯 Model Identified 28.57% of churners, preventing this portion of revenue loss.\n"
     ]
    }
   ],
   "source": [
    "# Filter churned customers\n",
    "churned_customers = df[df[\"Client Attrited\"] == 1]\n",
    "\n",
    "# Calculate average revenue per customer (proxy: Total Funds Managed)\n",
    "avg_revenue_per_customer = churned_customers[\"Total Funds Managed\"].mean()\n",
    "\n",
    "# Total potential revenue loss if all churners leave\n",
    "total_revenue_loss = avg_revenue_per_customer * len(churned_customers)\n",
    "\n",
    "# Revenue saved by our model (Recall * Total Revenue Loss)\n",
    "revenue_saved = total_revenue_loss * recall\n",
    "\n",
    "# Print results\n",
    "print(f\"📉 Estimated Total Revenue Loss Due to Churn: ${total_revenue_loss:,.2f}\")\n",
    "print(f\"📊 Estimated Revenue Saved by Model: ${revenue_saved:,.2f}\")\n",
    "print(f\"🎯 Model Identified {recall*100:.2f}% of churners, preventing this portion of revenue loss.\")\n"
   ]
  },
  {
   "cell_type": "code",
   "execution_count": 51,
   "metadata": {},
   "outputs": [
    {
     "name": "stdout",
     "output_type": "stream",
     "text": [
      "Index(['Client ID', 'Survey Response Date', 'NPS Score',\n",
      "       'Client First Service Date', 'High Value Client Indicator',\n",
      "       'Has Credit Card', 'Has Deposit Account', 'Has Investment Account',\n",
      "       'Has Borrowing Product', 'Total Product Count', 'Total Funds Managed',\n",
      "       'Chequing Balance', 'Savings Balance', 'Credit Card Balance',\n",
      "       'Client Attrited', 'Customer Tenure', 'Survey Response Channel_Online',\n",
      "       'Age_19 to 35', 'Age_36 to 50', 'Age_51 to 65', 'Age_66 to 70',\n",
      "       'Age_71 to 75', 'Age_76 to 80', 'Age_81 to 85', 'Age_85+', 'Age_No Age',\n",
      "       'Gender_M', 'Gender_U', 'Province_AZ', 'Province_BC', 'Province_CA',\n",
      "       'Province_CO', 'Province_FL', 'Province_GA', 'Province_IL',\n",
      "       'Province_MB', 'Province_MD', 'Province_MI', 'Province_NB',\n",
      "       'Province_NC', 'Province_NJ', 'Province_NL', 'Province_NS',\n",
      "       'Province_NT', 'Province_NU', 'Province_NY', 'Province_ON',\n",
      "       'Province_PA', 'Province_PE', 'Province_SK', 'Province_YT',\n",
      "       'CES_Estimate', 'CSAT_Score'],\n",
      "      dtype='object')\n"
     ]
    }
   ],
   "source": [
    "print(df.columns)  # Print all column names\n"
   ]
  },
  {
   "cell_type": "code",
   "execution_count": 52,
   "metadata": {},
   "outputs": [],
   "source": [
    "# Ensure CES_Estimate & CSAT_Score exist in the dataset\n",
    "if \"CES_Estimate\" in df.columns and \"CSAT_Score\" in df.columns:\n",
    "    X_train[\"CES_Estimate\"] = df.loc[X_train.index, \"CES_Estimate\"]\n",
    "    X_train[\"CSAT_Score\"] = df.loc[X_train.index, \"CSAT_Score\"]\n",
    "    X_test[\"CES_Estimate\"] = df.loc[X_test.index, \"CES_Estimate\"]\n",
    "    X_test[\"CSAT_Score\"] = df.loc[X_test.index, \"CSAT_Score\"]\n",
    "else:\n",
    "    print(\"⚠️ CES_Estimate or CSAT_Score columns not found in dataset. Please check the feature names.\")\n"
   ]
  },
  {
   "cell_type": "code",
   "execution_count": 53,
   "metadata": {},
   "outputs": [
    {
     "name": "stdout",
     "output_type": "stream",
     "text": [
      "✅ Updated Model Performance:\n",
      "Accuracy: 0.9968\n",
      "Precision: 0.0000\n",
      "Recall: 0.0000\n",
      "F1-score: 0.0000\n",
      "\n",
      "Classification Report:\n",
      "               precision    recall  f1-score   support\n",
      "\n",
      "           0       1.00      1.00      1.00      2202\n",
      "           1       0.00      0.00      0.00         7\n",
      "\n",
      "    accuracy                           1.00      2209\n",
      "   macro avg       0.50      0.50      0.50      2209\n",
      "weighted avg       0.99      1.00      1.00      2209\n",
      "\n"
     ]
    },
    {
     "name": "stderr",
     "output_type": "stream",
     "text": [
      "c:\\Users\\sreej\\AppData\\Local\\Programs\\Python\\Python310\\lib\\site-packages\\sklearn\\metrics\\_classification.py:1565: UndefinedMetricWarning: Precision is ill-defined and being set to 0.0 due to no predicted samples. Use `zero_division` parameter to control this behavior.\n",
      "  _warn_prf(average, modifier, f\"{metric.capitalize()} is\", len(result))\n",
      "c:\\Users\\sreej\\AppData\\Local\\Programs\\Python\\Python310\\lib\\site-packages\\sklearn\\metrics\\_classification.py:1565: UndefinedMetricWarning: Precision is ill-defined and being set to 0.0 in labels with no predicted samples. Use `zero_division` parameter to control this behavior.\n",
      "  _warn_prf(average, modifier, f\"{metric.capitalize()} is\", len(result))\n",
      "c:\\Users\\sreej\\AppData\\Local\\Programs\\Python\\Python310\\lib\\site-packages\\sklearn\\metrics\\_classification.py:1565: UndefinedMetricWarning: Precision is ill-defined and being set to 0.0 in labels with no predicted samples. Use `zero_division` parameter to control this behavior.\n",
      "  _warn_prf(average, modifier, f\"{metric.capitalize()} is\", len(result))\n",
      "c:\\Users\\sreej\\AppData\\Local\\Programs\\Python\\Python310\\lib\\site-packages\\sklearn\\metrics\\_classification.py:1565: UndefinedMetricWarning: Precision is ill-defined and being set to 0.0 in labels with no predicted samples. Use `zero_division` parameter to control this behavior.\n",
      "  _warn_prf(average, modifier, f\"{metric.capitalize()} is\", len(result))\n"
     ]
    }
   ],
   "source": [
    "# Import necessary libraries\n",
    "from sklearn.ensemble import RandomForestClassifier\n",
    "from sklearn.metrics import accuracy_score, precision_score, recall_score, f1_score, classification_report\n",
    "\n",
    "# Retrain the model with CES & CSAT\n",
    "rf_model_updated = RandomForestClassifier(n_estimators=100, random_state=42, class_weight=\"balanced\")\n",
    "rf_model_updated.fit(X_train, y_train)\n",
    "\n",
    "# Make predictions\n",
    "y_pred_updated = rf_model_updated.predict(X_test)\n",
    "\n",
    "# Evaluate model performance\n",
    "accuracy = accuracy_score(y_test, y_pred_updated)\n",
    "precision = precision_score(y_test, y_pred_updated)\n",
    "recall = recall_score(y_test, y_pred_updated)\n",
    "f1 = f1_score(y_test, y_pred_updated)\n",
    "\n",
    "print(f\"✅ Updated Model Performance:\")\n",
    "print(f\"Accuracy: {accuracy:.4f}\")\n",
    "print(f\"Precision: {precision:.4f}\")\n",
    "print(f\"Recall: {recall:.4f}\")\n",
    "print(f\"F1-score: {f1:.4f}\")\n",
    "\n",
    "print(\"\\nClassification Report:\\n\", classification_report(y_test, y_pred_updated))\n"
   ]
  },
  {
   "cell_type": "code",
   "execution_count": 54,
   "metadata": {},
   "outputs": [
    {
     "name": "stderr",
     "output_type": "stream",
     "text": [
      "C:\\Users\\sreej\\AppData\\Local\\Temp\\ipykernel_22980\\3700012758.py:16: UserWarning: FigureCanvasAgg is non-interactive, and thus cannot be shown\n",
      "  plt.show()\n"
     ]
    }
   ],
   "source": [
    "import matplotlib.pyplot as plt\n",
    "import seaborn as sns\n",
    "\n",
    "# Get feature importances\n",
    "importances = rf_model_updated.feature_importances_\n",
    "feature_names = X_train.columns\n",
    "\n",
    "# Create DataFrame\n",
    "feat_importances = pd.DataFrame({\"Feature\": feature_names, \"Importance Score\": importances})\n",
    "feat_importances = feat_importances.sort_values(by=\"Importance Score\", ascending=False)\n",
    "\n",
    "# Plot feature importance\n",
    "plt.figure(figsize=(10, 5))\n",
    "sns.barplot(y=\"Feature\", x=\"Importance Score\", data=feat_importances.head(10))\n",
    "plt.title(\"Feature Importance for Customer Attrition Prediction\")\n",
    "plt.show()\n"
   ]
  },
  {
   "cell_type": "code",
   "execution_count": 55,
   "metadata": {},
   "outputs": [
    {
     "name": "stdout",
     "output_type": "stream",
     "text": [
      "📉 Updated Estimated Total Revenue Loss Due to Churn: $35,000.00\n",
      "📊 Updated Estimated Revenue Saved by Model: $0.00\n",
      "🎯 Updated Model Identified 0.00% of churners, preventing this portion\n"
     ]
    }
   ],
   "source": [
    "# Assume each retained customer generates $5,000 per year\n",
    "revenue_per_customer = 5000\n",
    "\n",
    "# Count correctly predicted churned customers\n",
    "true_churners = (y_test == 1).sum()\n",
    "predicted_churners = (y_pred_updated == 1).sum()\n",
    "correctly_identified = (y_test[y_test == 1] == y_pred_updated[y_test == 1]).sum()\n",
    "\n",
    "# Estimated revenue loss & savings\n",
    "revenue_loss = true_churners * revenue_per_customer\n",
    "revenue_saved = correctly_identified * revenue_per_customer\n",
    "\n",
    "print(f\"📉 Updated Estimated Total Revenue Loss Due to Churn: ${revenue_loss:,.2f}\")\n",
    "print(f\"📊 Updated Estimated Revenue Saved by Model: ${revenue_saved:,.2f}\")\n",
    "print(f\"🎯 Updated Model Identified {recall*100:.2f}% of churners, preventing this portion\")\n"
   ]
  },
  {
   "cell_type": "code",
   "execution_count": 56,
   "metadata": {},
   "outputs": [
    {
     "name": "stderr",
     "output_type": "stream",
     "text": [
      "c:\\Users\\sreej\\AppData\\Local\\Programs\\Python\\Python310\\lib\\site-packages\\sklearn\\base.py:474: FutureWarning: `BaseEstimator._validate_data` is deprecated in 1.6 and will be removed in 1.7. Use `sklearn.utils.validation.validate_data` instead. This function becomes public and is part of the scikit-learn developer API.\n",
      "  warnings.warn(\n"
     ]
    },
    {
     "name": "stdout",
     "output_type": "stream",
     "text": [
      "✅ SMOTE applied. New Class Distribution:\n",
      "0    8805\n",
      "1    4402\n",
      "Name: count, dtype: int64\n",
      "\n",
      "📊 **Model Performance After SMOTE & Class Weights**\n",
      "Accuracy: 0.9946\n",
      "Precision: 0.1429\n",
      "Recall: 0.1429\n",
      "F1-score: 0.1429\n",
      "\n",
      "Classification Report:\n",
      "               precision    recall  f1-score   support\n",
      "\n",
      "           0       1.00      1.00      1.00      2202\n",
      "           1       0.14      0.14      0.14         7\n",
      "\n",
      "    accuracy                           0.99      2209\n",
      "   macro avg       0.57      0.57      0.57      2209\n",
      "weighted avg       0.99      0.99      0.99      2209\n",
      "\n"
     ]
    }
   ],
   "source": [
    "from imblearn.over_sampling import SMOTE\n",
    "\n",
    "# Apply SMOTE to balance churn cases\n",
    "smote = SMOTE(sampling_strategy=0.5, random_state=42)  # Adjusted strategy to avoid overfitting\n",
    "X_train_smote, y_train_smote = smote.fit_resample(X_train, y_train)\n",
    "\n",
    "print(\"✅ SMOTE applied. New Class Distribution:\")\n",
    "print(pd.Series(y_train_smote).value_counts())\n",
    "\n",
    "# Retrain model with SMOTE-balanced data\n",
    "rf_model_smote = RandomForestClassifier(n_estimators=100, random_state=42, class_weight=\"balanced\")\n",
    "rf_model_smote.fit(X_train_smote, y_train_smote)\n",
    "\n",
    "# Predict on test set\n",
    "y_pred_smote = rf_model_smote.predict(X_test)\n",
    "\n",
    "# Evaluate performance\n",
    "accuracy = accuracy_score(y_test, y_pred_smote)\n",
    "precision = precision_score(y_test, y_pred_smote)\n",
    "recall = recall_score(y_test, y_pred_smote)\n",
    "f1 = f1_score(y_test, y_pred_smote)\n",
    "\n",
    "print(f\"\\n📊 **Model Performance After SMOTE & Class Weights**\")\n",
    "print(f\"Accuracy: {accuracy:.4f}\")\n",
    "print(f\"Precision: {precision:.4f}\")\n",
    "print(f\"Recall: {recall:.4f}\")\n",
    "print(f\"F1-score: {f1:.4f}\")\n",
    "\n",
    "print(\"\\nClassification Report:\\n\", classification_report(y_test, y_pred_smote))\n"
   ]
  },
  {
   "cell_type": "code",
   "execution_count": 57,
   "metadata": {},
   "outputs": [
    {
     "name": "stdout",
     "output_type": "stream",
     "text": [
      "\n",
      "📊 **Model Performance After Hyperparameter Tuning**\n",
      "Accuracy: 0.9833\n",
      "Precision: 0.0833\n",
      "Recall: 0.4286\n",
      "F1-score: 0.1395\n",
      "\n",
      "Classification Report:\n",
      "               precision    recall  f1-score   support\n",
      "\n",
      "           0       1.00      0.99      0.99      2202\n",
      "           1       0.08      0.43      0.14         7\n",
      "\n",
      "    accuracy                           0.98      2209\n",
      "   macro avg       0.54      0.71      0.57      2209\n",
      "weighted avg       1.00      0.98      0.99      2209\n",
      "\n"
     ]
    }
   ],
   "source": [
    "rf_model_tuned = RandomForestClassifier(\n",
    "    n_estimators=200,  # Increase trees for better generalization\n",
    "    max_depth=10,  # Prevent overfitting\n",
    "    min_samples_split=10,  # Ensure enough data per split\n",
    "    min_samples_leaf=5,  # Avoid overfitting to small patterns\n",
    "    class_weight=\"balanced\",\n",
    "    random_state=42\n",
    ")\n",
    "\n",
    "rf_model_tuned.fit(X_train_smote, y_train_smote)\n",
    "y_pred_tuned = rf_model_tuned.predict(X_test)\n",
    "\n",
    "# Evaluate again\n",
    "accuracy = accuracy_score(y_test, y_pred_tuned)\n",
    "precision = precision_score(y_test, y_pred_tuned)\n",
    "recall = recall_score(y_test, y_pred_tuned)\n",
    "f1 = f1_score(y_test, y_pred_tuned)\n",
    "\n",
    "print(f\"\\n📊 **Model Performance After Hyperparameter Tuning**\")\n",
    "print(f\"Accuracy: {accuracy:.4f}\")\n",
    "print(f\"Precision: {precision:.4f}\")\n",
    "print(f\"Recall: {recall:.4f}\")\n",
    "print(f\"F1-score: {f1:.4f}\")\n",
    "\n",
    "print(\"\\nClassification Report:\\n\", classification_report(y_test, y_pred_tuned))\n"
   ]
  },
  {
   "cell_type": "code",
   "execution_count": 58,
   "metadata": {},
   "outputs": [
    {
     "name": "stdout",
     "output_type": "stream",
     "text": [
      "📉 Updated Estimated Total Revenue Loss Due to Churn: $35,000.00\n",
      "📊 Updated Estimated Revenue Saved by Model: $15,000.00\n",
      "🎯 Updated Model Identified 42.86% of churners, preventing this portion\n"
     ]
    }
   ],
   "source": [
    "# Assume each retained customer generates $5,000 per year\n",
    "revenue_per_customer = 5000\n",
    "\n",
    "# Count correctly predicted churned customers\n",
    "true_churners = (y_test == 1).sum()\n",
    "predicted_churners = (y_pred_tuned == 1).sum()\n",
    "correctly_identified = (y_test[y_test == 1] == y_pred_tuned[y_test == 1]).sum()\n",
    "\n",
    "# Estimated revenue loss & savings\n",
    "revenue_loss = true_churners * revenue_per_customer\n",
    "revenue_saved = correctly_identified * revenue_per_customer\n",
    "\n",
    "print(f\"📉 Updated Estimated Total Revenue Loss Due to Churn: ${revenue_loss:,.2f}\")\n",
    "print(f\"📊 Updated Estimated Revenue Saved by Model: ${revenue_saved:,.2f}\")\n",
    "print(f\"🎯 Updated Model Identified {recall*100:.2f}% of churners, preventing this portion\")\n"
   ]
  },
  {
   "cell_type": "code",
   "execution_count": 59,
   "metadata": {},
   "outputs": [
    {
     "name": "stderr",
     "output_type": "stream",
     "text": [
      "100%|===================| 4408/4418 [01:30<00:00]        "
     ]
    },
    {
     "ename": "ExplainerError",
     "evalue": "Additivity check failed in TreeExplainer! Please ensure the data matrix you passed to the explainer is the same shape that the model was trained on. If your data shape is correct then please report this on GitHub. This check failed because for one of the samples the sum of the SHAP values was 0.111495, while the model output was 0.109829. If this difference is acceptable you can set check_additivity=False to disable this check.",
     "output_type": "error",
     "traceback": [
      "\u001b[1;31m---------------------------------------------------------------------------\u001b[0m",
      "\u001b[1;31mExplainerError\u001b[0m                            Traceback (most recent call last)",
      "Cell \u001b[1;32mIn[59], line 5\u001b[0m\n\u001b[0;32m      3\u001b[0m \u001b[38;5;66;03m# Initialize SHAP explainer\u001b[39;00m\n\u001b[0;32m      4\u001b[0m explainer \u001b[38;5;241m=\u001b[39m shap\u001b[38;5;241m.\u001b[39mExplainer(rf_model_tuned, X_train_smote)\n\u001b[1;32m----> 5\u001b[0m shap_values \u001b[38;5;241m=\u001b[39m \u001b[43mexplainer\u001b[49m\u001b[43m(\u001b[49m\u001b[43mX_test\u001b[49m\u001b[43m)\u001b[49m\n\u001b[0;32m      7\u001b[0m \u001b[38;5;66;03m# Plot SHAP summary\u001b[39;00m\n\u001b[0;32m      8\u001b[0m shap\u001b[38;5;241m.\u001b[39msummary_plot(shap_values, X_test)\n",
      "File \u001b[1;32mc:\\Users\\sreej\\AppData\\Local\\Programs\\Python\\Python310\\lib\\site-packages\\shap\\explainers\\_tree.py:262\u001b[0m, in \u001b[0;36mTreeExplainer.__call__\u001b[1;34m(self, X, y, interactions, check_additivity)\u001b[0m\n\u001b[0;32m    259\u001b[0m     feature_names \u001b[38;5;241m=\u001b[39m \u001b[38;5;28mgetattr\u001b[39m(\u001b[38;5;28mself\u001b[39m, \u001b[38;5;124m\"\u001b[39m\u001b[38;5;124mdata_feature_names\u001b[39m\u001b[38;5;124m\"\u001b[39m, \u001b[38;5;28;01mNone\u001b[39;00m)\n\u001b[0;32m    261\u001b[0m \u001b[38;5;28;01mif\u001b[39;00m \u001b[38;5;129;01mnot\u001b[39;00m interactions:\n\u001b[1;32m--> 262\u001b[0m     v \u001b[38;5;241m=\u001b[39m \u001b[38;5;28;43mself\u001b[39;49m\u001b[38;5;241;43m.\u001b[39;49m\u001b[43mshap_values\u001b[49m\u001b[43m(\u001b[49m\u001b[43mX\u001b[49m\u001b[43m,\u001b[49m\u001b[43m \u001b[49m\u001b[43my\u001b[49m\u001b[38;5;241;43m=\u001b[39;49m\u001b[43my\u001b[49m\u001b[43m,\u001b[49m\u001b[43m \u001b[49m\u001b[43mfrom_call\u001b[49m\u001b[38;5;241;43m=\u001b[39;49m\u001b[38;5;28;43;01mTrue\u001b[39;49;00m\u001b[43m,\u001b[49m\u001b[43m \u001b[49m\u001b[43mcheck_additivity\u001b[49m\u001b[38;5;241;43m=\u001b[39;49m\u001b[43mcheck_additivity\u001b[49m\u001b[43m,\u001b[49m\u001b[43m \u001b[49m\u001b[43mapproximate\u001b[49m\u001b[38;5;241;43m=\u001b[39;49m\u001b[38;5;28;43mself\u001b[39;49m\u001b[38;5;241;43m.\u001b[39;49m\u001b[43mapproximate\u001b[49m\u001b[43m)\u001b[49m\n\u001b[0;32m    263\u001b[0m     \u001b[38;5;28;01mif\u001b[39;00m \u001b[38;5;28misinstance\u001b[39m(v, \u001b[38;5;28mlist\u001b[39m):\n\u001b[0;32m    264\u001b[0m         v \u001b[38;5;241m=\u001b[39m np\u001b[38;5;241m.\u001b[39mstack(v, axis\u001b[38;5;241m=\u001b[39m\u001b[38;5;241m-\u001b[39m\u001b[38;5;241m1\u001b[39m)  \u001b[38;5;66;03m# put outputs at the end\u001b[39;00m\n",
      "File \u001b[1;32mc:\\Users\\sreej\\AppData\\Local\\Programs\\Python\\Python310\\lib\\site-packages\\shap\\explainers\\_tree.py:510\u001b[0m, in \u001b[0;36mTreeExplainer.shap_values\u001b[1;34m(self, X, y, tree_limit, approximate, check_additivity, from_call)\u001b[0m\n\u001b[0;32m    508\u001b[0m out \u001b[38;5;241m=\u001b[39m \u001b[38;5;28mself\u001b[39m\u001b[38;5;241m.\u001b[39m_get_shap_output(phi, flat_output)\n\u001b[0;32m    509\u001b[0m \u001b[38;5;28;01mif\u001b[39;00m check_additivity \u001b[38;5;129;01mand\u001b[39;00m \u001b[38;5;28mself\u001b[39m\u001b[38;5;241m.\u001b[39mmodel\u001b[38;5;241m.\u001b[39mmodel_output \u001b[38;5;241m==\u001b[39m \u001b[38;5;124m\"\u001b[39m\u001b[38;5;124mraw\u001b[39m\u001b[38;5;124m\"\u001b[39m:\n\u001b[1;32m--> 510\u001b[0m     \u001b[38;5;28;43mself\u001b[39;49m\u001b[38;5;241;43m.\u001b[39;49m\u001b[43massert_additivity\u001b[49m\u001b[43m(\u001b[49m\u001b[43mout\u001b[49m\u001b[43m,\u001b[49m\u001b[43m \u001b[49m\u001b[38;5;28;43mself\u001b[39;49m\u001b[38;5;241;43m.\u001b[39;49m\u001b[43mmodel\u001b[49m\u001b[38;5;241;43m.\u001b[39;49m\u001b[43mpredict\u001b[49m\u001b[43m(\u001b[49m\u001b[43mX\u001b[49m\u001b[43m)\u001b[49m\u001b[43m)\u001b[49m\n\u001b[0;32m    512\u001b[0m \u001b[38;5;66;03m# This statements handles the case of multiple outputs\u001b[39;00m\n\u001b[0;32m    513\u001b[0m \u001b[38;5;66;03m# e.g. a multi-class classification problem, multi-target regression problem\u001b[39;00m\n\u001b[0;32m    514\u001b[0m \u001b[38;5;66;03m# in this case the output shape corresponds to [num_samples, num_features, num_outputs]\u001b[39;00m\n\u001b[0;32m    515\u001b[0m \u001b[38;5;28;01mif\u001b[39;00m \u001b[38;5;28misinstance\u001b[39m(out, \u001b[38;5;28mlist\u001b[39m):\n",
      "File \u001b[1;32mc:\\Users\\sreej\\AppData\\Local\\Programs\\Python\\Python310\\lib\\site-packages\\shap\\explainers\\_tree.py:678\u001b[0m, in \u001b[0;36mTreeExplainer.assert_additivity\u001b[1;34m(self, phi, model_output)\u001b[0m\n\u001b[0;32m    676\u001b[0m \u001b[38;5;28;01mif\u001b[39;00m \u001b[38;5;28misinstance\u001b[39m(phi, \u001b[38;5;28mlist\u001b[39m):\n\u001b[0;32m    677\u001b[0m     \u001b[38;5;28;01mfor\u001b[39;00m i \u001b[38;5;129;01min\u001b[39;00m \u001b[38;5;28mrange\u001b[39m(\u001b[38;5;28mlen\u001b[39m(phi)):\n\u001b[1;32m--> 678\u001b[0m         \u001b[43mcheck_sum\u001b[49m\u001b[43m(\u001b[49m\u001b[38;5;28;43mself\u001b[39;49m\u001b[38;5;241;43m.\u001b[39;49m\u001b[43mexpected_value\u001b[49m\u001b[43m[\u001b[49m\u001b[43mi\u001b[49m\u001b[43m]\u001b[49m\u001b[43m \u001b[49m\u001b[38;5;241;43m+\u001b[39;49m\u001b[43m \u001b[49m\u001b[43mphi\u001b[49m\u001b[43m[\u001b[49m\u001b[43mi\u001b[49m\u001b[43m]\u001b[49m\u001b[38;5;241;43m.\u001b[39;49m\u001b[43msum\u001b[49m\u001b[43m(\u001b[49m\u001b[38;5;241;43m-\u001b[39;49m\u001b[38;5;241;43m1\u001b[39;49m\u001b[43m)\u001b[49m\u001b[43m,\u001b[49m\u001b[43m \u001b[49m\u001b[43mmodel_output\u001b[49m\u001b[43m[\u001b[49m\u001b[43m:\u001b[49m\u001b[43m,\u001b[49m\u001b[43mi\u001b[49m\u001b[43m]\u001b[49m\u001b[43m)\u001b[49m\n\u001b[0;32m    679\u001b[0m \u001b[38;5;28;01melse\u001b[39;00m:\n\u001b[0;32m    680\u001b[0m     check_sum(\u001b[38;5;28mself\u001b[39m\u001b[38;5;241m.\u001b[39mexpected_value \u001b[38;5;241m+\u001b[39m phi\u001b[38;5;241m.\u001b[39msum(\u001b[38;5;241m-\u001b[39m\u001b[38;5;241m1\u001b[39m), model_output)\n",
      "File \u001b[1;32mc:\\Users\\sreej\\AppData\\Local\\Programs\\Python\\Python310\\lib\\site-packages\\shap\\explainers\\_tree.py:674\u001b[0m, in \u001b[0;36mTreeExplainer.assert_additivity.<locals>.check_sum\u001b[1;34m(sum_val, model_output)\u001b[0m\n\u001b[0;32m    670\u001b[0m     err_msg \u001b[38;5;241m+\u001b[39m\u001b[38;5;241m=\u001b[39m \u001b[38;5;124m\"\u001b[39m\u001b[38;5;124m Consider retrying with the feature_perturbation=\u001b[39m\u001b[38;5;124m'\u001b[39m\u001b[38;5;124minterventional\u001b[39m\u001b[38;5;124m'\u001b[39m\u001b[38;5;124m option.\u001b[39m\u001b[38;5;124m\"\u001b[39m\n\u001b[0;32m    671\u001b[0m err_msg \u001b[38;5;241m+\u001b[39m\u001b[38;5;241m=\u001b[39m \u001b[38;5;124m\"\u001b[39m\u001b[38;5;124m This check failed because for one of the samples the sum of the SHAP values\u001b[39m\u001b[38;5;124m\"\u001b[39m \\\n\u001b[0;32m    672\u001b[0m            \u001b[38;5;124mf\u001b[39m\u001b[38;5;124m\"\u001b[39m\u001b[38;5;124m was \u001b[39m\u001b[38;5;132;01m{\u001b[39;00msum_val[ind]\u001b[38;5;132;01m:\u001b[39;00m\u001b[38;5;124mf\u001b[39m\u001b[38;5;132;01m}\u001b[39;00m\u001b[38;5;124m, while the model output was \u001b[39m\u001b[38;5;132;01m{\u001b[39;00mmodel_output[ind]\u001b[38;5;132;01m:\u001b[39;00m\u001b[38;5;124mf\u001b[39m\u001b[38;5;132;01m}\u001b[39;00m\u001b[38;5;124m. If this\u001b[39m\u001b[38;5;124m\"\u001b[39m \\\n\u001b[0;32m    673\u001b[0m             \u001b[38;5;124m\"\u001b[39m\u001b[38;5;124m difference is acceptable you can set check_additivity=False to disable this check.\u001b[39m\u001b[38;5;124m\"\u001b[39m\n\u001b[1;32m--> 674\u001b[0m \u001b[38;5;28;01mraise\u001b[39;00m ExplainerError(err_msg)\n",
      "\u001b[1;31mExplainerError\u001b[0m: Additivity check failed in TreeExplainer! Please ensure the data matrix you passed to the explainer is the same shape that the model was trained on. If your data shape is correct then please report this on GitHub. This check failed because for one of the samples the sum of the SHAP values was 0.111495, while the model output was 0.109829. If this difference is acceptable you can set check_additivity=False to disable this check."
     ]
    }
   ],
   "source": [
    "import shap\n",
    "\n",
    "# Initialize SHAP explainer\n",
    "explainer = shap.Explainer(rf_model_tuned, X_train_smote)\n",
    "shap_values = explainer(X_test)\n",
    "\n",
    "# Plot SHAP summary\n",
    "shap.summary_plot(shap_values, X_test)\n"
   ]
  },
  {
   "cell_type": "code",
   "execution_count": 60,
   "metadata": {},
   "outputs": [
    {
     "name": "stdout",
     "output_type": "stream",
     "text": [
      "   High_CES_Low_CSAT NPS_Category           Tenure_Category\n",
      "0                  1    Detractor  Loyal Customer (15+ yrs)\n",
      "1                  0     Promoter  Loyal Customer (15+ yrs)\n",
      "2                  1     Promoter  Loyal Customer (15+ yrs)\n",
      "3                  0     Promoter  Loyal Customer (15+ yrs)\n",
      "4                  1      Passive  Loyal Customer (15+ yrs)\n"
     ]
    }
   ],
   "source": [
    "import pandas as pd\n",
    "import numpy as np\n",
    "\n",
    "# 1.1 Create 'High CES & Low CSAT' Feature\n",
    "ces_median = df['CES_Estimate'].median()\n",
    "csat_median = df['CSAT_Score'].median()\n",
    "\n",
    "df['High_CES_Low_CSAT'] = np.where((df['CES_Estimate'] > ces_median) & (df['CSAT_Score'] < csat_median), 1, 0)\n",
    "\n",
    "# 1.2 Segment NPS Groups\n",
    "def categorize_nps(nps):\n",
    "    if nps <= 6:\n",
    "        return 'Detractor'\n",
    "    elif 7 <= nps <= 8:\n",
    "        return 'Passive'\n",
    "    else:\n",
    "        return 'Promoter'\n",
    "\n",
    "df['NPS_Category'] = df['NPS Score'].apply(categorize_nps)\n",
    "\n",
    "# 1.3 Categorize Customer Tenure\n",
    "def categorize_tenure(tenure):\n",
    "    if tenure <= 5:\n",
    "        return 'New Customer (0-5 yrs)'\n",
    "    elif 6 <= tenure <= 15:\n",
    "        return 'Medium Tenure (6-15 yrs)'\n",
    "    else:\n",
    "        return 'Loyal Customer (15+ yrs)'\n",
    "\n",
    "df['Tenure_Category'] = df['Customer Tenure'].apply(categorize_tenure)\n",
    "\n",
    "# Display distributions\n",
    "print(df[['High_CES_Low_CSAT', 'NPS_Category', 'Tenure_Category']].head())\n"
   ]
  },
  {
   "cell_type": "code",
   "execution_count": 61,
   "metadata": {},
   "outputs": [
    {
     "name": "stderr",
     "output_type": "stream",
     "text": [
      "C:\\Users\\sreej\\AppData\\Local\\Temp\\ipykernel_22980\\729056766.py:9: FutureWarning: \n",
      "\n",
      "Passing `palette` without assigning `hue` is deprecated and will be removed in v0.14.0. Assign the `x` variable to `hue` and set `legend=False` for the same effect.\n",
      "\n",
      "  sns.barplot(x=churn_by_ces_csat.index, y=churn_by_ces_csat.values, palette=\"coolwarm\")\n",
      "C:\\Users\\sreej\\AppData\\Local\\Temp\\ipykernel_22980\\729056766.py:14: UserWarning: FigureCanvasAgg is non-interactive, and thus cannot be shown\n",
      "  plt.show()\n"
     ]
    }
   ],
   "source": [
    "import matplotlib.pyplot as plt\n",
    "import seaborn as sns\n",
    "\n",
    "# Group by High_CES_Low_CSAT and calculate churn rate\n",
    "churn_by_ces_csat = df.groupby(\"High_CES_Low_CSAT\")[\"Client Attrited\"].mean()\n",
    "\n",
    "# Plot\n",
    "plt.figure(figsize=(7,5))\n",
    "sns.barplot(x=churn_by_ces_csat.index, y=churn_by_ces_csat.values, palette=\"coolwarm\")\n",
    "plt.xticks([0, 1], [\"Low CES & High CSAT\", \"High CES & Low CSAT\"])\n",
    "plt.ylabel(\"Churn Rate\")\n",
    "plt.xlabel(\"Customer Effort & Satisfaction\")\n",
    "plt.title(\"Churn Rate by High CES & Low CSAT\")\n",
    "plt.show()\n"
   ]
  },
  {
   "cell_type": "code",
   "execution_count": 62,
   "metadata": {},
   "outputs": [
    {
     "name": "stderr",
     "output_type": "stream",
     "text": [
      "C:\\Users\\sreej\\AppData\\Local\\Temp\\ipykernel_22980\\614147097.py:6: FutureWarning: \n",
      "\n",
      "Passing `palette` without assigning `hue` is deprecated and will be removed in v0.14.0. Assign the `x` variable to `hue` and set `legend=False` for the same effect.\n",
      "\n",
      "  sns.barplot(x=churn_by_nps.index, y=churn_by_nps.values, palette=\"viridis\")\n",
      "C:\\Users\\sreej\\AppData\\Local\\Temp\\ipykernel_22980\\614147097.py:11: UserWarning: FigureCanvasAgg is non-interactive, and thus cannot be shown\n",
      "  plt.show()\n"
     ]
    }
   ],
   "source": [
    "# Group by NPS category and calculate churn rate\n",
    "churn_by_nps = df.groupby(\"NPS_Category\")[\"Client Attrited\"].mean().sort_index()\n",
    "\n",
    "# Plot\n",
    "plt.figure(figsize=(8,5))\n",
    "sns.barplot(x=churn_by_nps.index, y=churn_by_nps.values, palette=\"viridis\")\n",
    "plt.ylabel(\"Churn Rate\")\n",
    "plt.xlabel(\"NPS Category\")\n",
    "plt.title(\"Churn Rate by NPS Category\")\n",
    "plt.xticks(rotation=45)\n",
    "plt.show()\n"
   ]
  },
  {
   "cell_type": "code",
   "execution_count": 63,
   "metadata": {},
   "outputs": [
    {
     "name": "stderr",
     "output_type": "stream",
     "text": [
      "C:\\Users\\sreej\\AppData\\Local\\Temp\\ipykernel_22980\\3895974469.py:6: FutureWarning: \n",
      "\n",
      "Passing `palette` without assigning `hue` is deprecated and will be removed in v0.14.0. Assign the `x` variable to `hue` and set `legend=False` for the same effect.\n",
      "\n",
      "  sns.barplot(x=churn_by_tenure.index, y=churn_by_tenure.values, palette=\"Blues_r\")\n",
      "C:\\Users\\sreej\\AppData\\Local\\Temp\\ipykernel_22980\\3895974469.py:11: UserWarning: FigureCanvasAgg is non-interactive, and thus cannot be shown\n",
      "  plt.show()\n"
     ]
    }
   ],
   "source": [
    "# Group by Tenure Category and calculate churn rate\n",
    "churn_by_tenure = df.groupby(\"Tenure_Category\")[\"Client Attrited\"].mean().sort_index()\n",
    "\n",
    "# Plot\n",
    "plt.figure(figsize=(8,5))\n",
    "sns.barplot(x=churn_by_tenure.index, y=churn_by_tenure.values, palette=\"Blues_r\")\n",
    "plt.ylabel(\"Churn Rate\")\n",
    "plt.xlabel(\"Customer Tenure Category\")\n",
    "plt.title(\"Churn Rate by Tenure\")\n",
    "plt.xticks(rotation=45)\n",
    "plt.show()\n"
   ]
  },
  {
   "cell_type": "code",
   "execution_count": 64,
   "metadata": {},
   "outputs": [
    {
     "name": "stderr",
     "output_type": "stream",
     "text": [
      "C:\\Users\\sreej\\AppData\\Local\\Temp\\ipykernel_22980\\1731650589.py:7: FutureWarning: \n",
      "\n",
      "Passing `palette` without assigning `hue` is deprecated and will be removed in v0.14.0. Assign the `x` variable to `hue` and set `legend=False` for the same effect.\n",
      "\n",
      "  sns.barplot(x=churn_by_ces_csat.index, y=churn_by_ces_csat.values, palette=\"coolwarm\")\n",
      "C:\\Users\\sreej\\AppData\\Local\\Temp\\ipykernel_22980\\1731650589.py:11: UserWarning: FigureCanvasAgg is non-interactive, and thus cannot be shown\n",
      "  plt.show()\n",
      "C:\\Users\\sreej\\AppData\\Local\\Temp\\ipykernel_22980\\1731650589.py:16: FutureWarning: \n",
      "\n",
      "Passing `palette` without assigning `hue` is deprecated and will be removed in v0.14.0. Assign the `x` variable to `hue` and set `legend=False` for the same effect.\n",
      "\n",
      "  sns.barplot(x=churn_by_nps.index, y=churn_by_nps.values, palette=\"viridis\")\n",
      "C:\\Users\\sreej\\AppData\\Local\\Temp\\ipykernel_22980\\1731650589.py:21: UserWarning: FigureCanvasAgg is non-interactive, and thus cannot be shown\n",
      "  plt.show()\n",
      "C:\\Users\\sreej\\AppData\\Local\\Temp\\ipykernel_22980\\1731650589.py:26: FutureWarning: \n",
      "\n",
      "Passing `palette` without assigning `hue` is deprecated and will be removed in v0.14.0. Assign the `x` variable to `hue` and set `legend=False` for the same effect.\n",
      "\n",
      "  sns.barplot(x=churn_by_tenure.index, y=churn_by_tenure.values, palette=\"Blues\")\n",
      "C:\\Users\\sreej\\AppData\\Local\\Temp\\ipykernel_22980\\1731650589.py:31: UserWarning: FigureCanvasAgg is non-interactive, and thus cannot be shown\n",
      "  plt.show()\n"
     ]
    }
   ],
   "source": [
    "import matplotlib.pyplot as plt\n",
    "import seaborn as sns\n",
    "\n",
    "# 1️⃣ Churn Rate by High CES & Low CSAT\n",
    "churn_by_ces_csat = df.groupby(\"High_CES_Low_CSAT\")[\"Client Attrited\"].mean()\n",
    "plt.figure(figsize=(8, 5))\n",
    "sns.barplot(x=churn_by_ces_csat.index, y=churn_by_ces_csat.values, palette=\"coolwarm\")\n",
    "plt.xlabel(\"Customer Effort & Satisfaction\")\n",
    "plt.ylabel(\"Churn Rate\")\n",
    "plt.title(\"Churn Rate by High CES & Low CSAT\")\n",
    "plt.show()\n",
    "\n",
    "# 2️⃣ Churn Rate by NPS Category\n",
    "churn_by_nps = df.groupby(\"NPS_Category\")[\"Client Attrited\"].mean().sort_index()\n",
    "plt.figure(figsize=(8, 5))\n",
    "sns.barplot(x=churn_by_nps.index, y=churn_by_nps.values, palette=\"viridis\")\n",
    "plt.xlabel(\"NPS Category\")\n",
    "plt.ylabel(\"Churn Rate\")\n",
    "plt.title(\"Churn Rate by NPS Category\")\n",
    "plt.xticks(rotation=45)\n",
    "plt.show()\n",
    "\n",
    "# 3️⃣ Churn Rate by Tenure Category\n",
    "churn_by_tenure = df.groupby(\"Tenure_Category\")[\"Client Attrited\"].mean().sort_index()\n",
    "plt.figure(figsize=(8, 5))\n",
    "sns.barplot(x=churn_by_tenure.index, y=churn_by_tenure.values, palette=\"Blues\")\n",
    "plt.xlabel(\"Customer Tenure Category\")\n",
    "plt.ylabel(\"Churn Rate\")\n",
    "plt.title(\"Churn Rate by Tenure\")\n",
    "plt.xticks(rotation=45)\n",
    "plt.show()\n"
   ]
  },
  {
   "cell_type": "code",
   "execution_count": 65,
   "metadata": {},
   "outputs": [
    {
     "name": "stdout",
     "output_type": "stream",
     "text": [
      "✅ Updated Model Performance:\n",
      "Accuracy: 0.9968\n",
      "Precision: 0.0000\n",
      "Recall: 0.0000\n",
      "F1-score: 0.0000\n"
     ]
    },
    {
     "name": "stderr",
     "output_type": "stream",
     "text": [
      "c:\\Users\\sreej\\AppData\\Local\\Programs\\Python\\Python310\\lib\\site-packages\\sklearn\\metrics\\_classification.py:1565: UndefinedMetricWarning: Precision is ill-defined and being set to 0.0 due to no predicted samples. Use `zero_division` parameter to control this behavior.\n",
      "  _warn_prf(average, modifier, f\"{metric.capitalize()} is\", len(result))\n"
     ]
    }
   ],
   "source": [
    "# Define new feature set including CES, CSAT, and Tenure Category\n",
    "selected_features = [\"CES_Estimate\", \"CSAT_Score\", \"Total Product Count\", \n",
    "                     \"Customer Tenure\", \"NPS Score\", \"Survey Response Channel_Online\"]\n",
    "\n",
    "# Ensure the features exist in the dataset\n",
    "X_train = df[selected_features].iloc[:len(y_train)]\n",
    "X_test = df[selected_features].iloc[len(y_train):]\n",
    "\n",
    "# Train updated model\n",
    "from sklearn.ensemble import RandomForestClassifier\n",
    "from sklearn.metrics import accuracy_score, precision_score, recall_score, f1_score\n",
    "\n",
    "rf_model_updated = RandomForestClassifier(n_estimators=200, random_state=42, class_weight=\"balanced\")\n",
    "rf_model_updated.fit(X_train, y_train)\n",
    "\n",
    "# Make predictions\n",
    "y_pred_updated = rf_model_updated.predict(X_test)\n",
    "\n",
    "# Evaluate model\n",
    "accuracy = accuracy_score(y_test, y_pred_updated)\n",
    "precision = precision_score(y_test, y_pred_updated)\n",
    "recall = recall_score(y_test, y_pred_updated)\n",
    "f1 = f1_score(y_test, y_pred_updated)\n",
    "\n",
    "# Print updated performance\n",
    "print(\"✅ Updated Model Performance:\")\n",
    "print(f\"Accuracy: {accuracy:.4f}\")\n",
    "print(f\"Precision: {precision:.4f}\")\n",
    "print(f\"Recall: {recall:.4f}\")\n",
    "print(f\"F1-score: {f1:.4f}\")\n"
   ]
  },
  {
   "cell_type": "code",
   "execution_count": 66,
   "metadata": {},
   "outputs": [
    {
     "name": "stderr",
     "output_type": "stream",
     "text": [
      "c:\\Users\\sreej\\AppData\\Local\\Programs\\Python\\Python310\\lib\\site-packages\\sklearn\\base.py:474: FutureWarning: `BaseEstimator._validate_data` is deprecated in 1.6 and will be removed in 1.7. Use `sklearn.utils.validation.validate_data` instead. This function becomes public and is part of the scikit-learn developer API.\n",
      "  warnings.warn(\n"
     ]
    },
    {
     "name": "stdout",
     "output_type": "stream",
     "text": [
      "✅ Updated Model Performance After SMOTE:\n",
      "Accuracy: 0.9860\n",
      "Precision: 0.0385\n",
      "Recall: 0.1429\n",
      "F1-score: 0.0606\n"
     ]
    }
   ],
   "source": [
    "from imblearn.over_sampling import SMOTE\n",
    "\n",
    "# Apply SMOTE only on the training set\n",
    "smote = SMOTE(sampling_strategy=\"auto\", random_state=42)\n",
    "X_train_smote, y_train_smote = smote.fit_resample(X_train, y_train)\n",
    "\n",
    "# Train updated model on balanced data\n",
    "rf_model_smote = RandomForestClassifier(n_estimators=200, random_state=42, class_weight=\"balanced\")\n",
    "rf_model_smote.fit(X_train_smote, y_train_smote)\n",
    "\n",
    "# Make predictions\n",
    "y_pred_smote = rf_model_smote.predict(X_test)\n",
    "\n",
    "# Evaluate model\n",
    "accuracy = accuracy_score(y_test, y_pred_smote)\n",
    "precision = precision_score(y_test, y_pred_smote)\n",
    "recall = recall_score(y_test, y_pred_smote)\n",
    "f1 = f1_score(y_test, y_pred_smote)\n",
    "\n",
    "# Print updated performance\n",
    "print(\"✅ Updated Model Performance After SMOTE:\")\n",
    "print(f\"Accuracy: {accuracy:.4f}\")\n",
    "print(f\"Precision: {precision:.4f}\")\n",
    "print(f\"Recall: {recall:.4f}\")\n",
    "print(f\"F1-score: {f1:.4f}\")\n"
   ]
  },
  {
   "cell_type": "code",
   "execution_count": 67,
   "metadata": {},
   "outputs": [
    {
     "name": "stdout",
     "output_type": "stream",
     "text": [
      "SHAP Values Shape: (2209, 6, 2)\n",
      "X_test Shape: (2209, 6)\n"
     ]
    },
    {
     "name": "stderr",
     "output_type": "stream",
     "text": [
      "c:\\Users\\sreej\\AppData\\Local\\Programs\\Python\\Python310\\lib\\site-packages\\shap\\plots\\_beeswarm.py:589: RuntimeWarning: More than 20 figures have been opened. Figures created through the pyplot interface (`matplotlib.pyplot.figure`) are retained until explicitly closed and may consume too much memory. (To control this warning, see the rcParam `figure.max_open_warning`). Consider using `matplotlib.pyplot.close()`.\n",
      "  pl.figure(figsize=(1.5 * max_display + 1, 0.8 * max_display + 1))\n",
      "c:\\Users\\sreej\\AppData\\Local\\Programs\\Python\\Python310\\lib\\site-packages\\shap\\plots\\_beeswarm.py:627: UserWarning: FigureCanvasAgg is non-interactive, and thus cannot be shown\n",
      "  pl.show()\n"
     ]
    }
   ],
   "source": [
    "import shap\n",
    "\n",
    "# Use TreeExplainer for RandomForest\n",
    "explainer = shap.TreeExplainer(rf_model)\n",
    "shap_values = explainer.shap_values(X_test)\n",
    "\n",
    "# Check the shape of SHAP values and X_test\n",
    "print(\"SHAP Values Shape:\", np.array(shap_values).shape)\n",
    "print(\"X_test Shape:\", X_test.shape)\n",
    "\n",
    "# Ensure the shapes match\n",
    "if len(shap_values) == 2:  # If the model is binary classification\n",
    "    shap.summary_plot(shap_values[1], X_test)  # Use class 1 (Attrited)\n",
    "else:\n",
    "    shap.summary_plot(shap_values, X_test)  # Use directly if single output"
   ]
  },
  {
   "cell_type": "code",
   "execution_count": 68,
   "metadata": {},
   "outputs": [
    {
     "name": "stdout",
     "output_type": "stream",
     "text": [
      "💰 Updated Estimated Total Revenue Loss Due to Churn: $35,000.00\n",
      "💰 Updated Estimated Revenue Saved by Model: $5,000.00\n",
      "🎯 Updated Model Identified 14.29% of churners, preventing this portion\n"
     ]
    }
   ],
   "source": [
    "# Assume each retained customer generates $5,000 per year\n",
    "revenue_per_customer = 5000\n",
    "\n",
    "# Count correctly predicted churned customers\n",
    "true_churners = (y_test == 1).sum()\n",
    "predicted_churners = (y_pred_smote == 1).sum()\n",
    "correctly_identified = (y_test[y_test == 1] == y_pred_smote[y_test == 1]).sum()\n",
    "\n",
    "# Estimate revenue loss & savings\n",
    "revenue_loss = true_churners * revenue_per_customer\n",
    "revenue_saved = correctly_identified * revenue_per_customer\n",
    "\n",
    "print(f\"💰 Updated Estimated Total Revenue Loss Due to Churn: ${revenue_loss:,.2f}\")\n",
    "print(f\"💰 Updated Estimated Revenue Saved by Model: ${revenue_saved:,.2f}\")\n",
    "print(f\"🎯 Updated Model Identified {recall*100:.2f}% of churners, preventing this portion\")\n"
   ]
  },
  {
   "cell_type": "code",
   "execution_count": 69,
   "metadata": {},
   "outputs": [
    {
     "name": "stderr",
     "output_type": "stream",
     "text": [
      "c:\\Users\\sreej\\AppData\\Local\\Programs\\Python\\Python310\\lib\\site-packages\\sklearn\\base.py:474: FutureWarning: `BaseEstimator._validate_data` is deprecated in 1.6 and will be removed in 1.7. Use `sklearn.utils.validation.validate_data` instead. This function becomes public and is part of the scikit-learn developer API.\n",
      "  warnings.warn(\n"
     ]
    },
    {
     "name": "stdout",
     "output_type": "stream",
     "text": [
      "✅ Updated Model Performance:\n",
      "Accuracy: 0.9860\n",
      "Precision: 0.0385\n",
      "Recall: 0.1429\n",
      "F1-score: 0.0606\n"
     ]
    }
   ],
   "source": [
    "from sklearn.ensemble import RandomForestClassifier\n",
    "from sklearn.metrics import accuracy_score, precision_score, recall_score, f1_score\n",
    "from imblearn.over_sampling import SMOTE\n",
    "\n",
    "# Define new feature set including CES, CSAT, and Tenure Category\n",
    "selected_features = [\"CES_Estimate\", \"CSAT_Score\", \"Total Product Count\",\n",
    "                     \"Customer Tenure\", \"NPS Score\", \"Survey Response Channel_Online\"]\n",
    "\n",
    "# Ensure the features exist in the dataset\n",
    "X_train_updated = df[selected_features].iloc[:len(y_train)]\n",
    "X_test_updated = df[selected_features].iloc[len(y_train):]\n",
    "\n",
    "# Apply SMOTE to handle imbalance\n",
    "smote = SMOTE(sampling_strategy=\"auto\", random_state=42)\n",
    "X_train_smote, y_train_smote = smote.fit_resample(X_train_updated, y_train)\n",
    "\n",
    "# Train updated model\n",
    "rf_model_updated = RandomForestClassifier(n_estimators=200, random_state=42, class_weight=\"balanced\")\n",
    "rf_model_updated.fit(X_train_smote, y_train_smote)\n",
    "\n",
    "# Make predictions\n",
    "y_pred_updated = rf_model_updated.predict(X_test_updated)\n",
    "\n",
    "# Evaluate model\n",
    "accuracy = accuracy_score(y_test, y_pred_updated)\n",
    "precision = precision_score(y_test, y_pred_updated)\n",
    "recall = recall_score(y_test, y_pred_updated)\n",
    "f1 = f1_score(y_test, y_pred_updated)\n",
    "\n",
    "# Print updated performance\n",
    "print(f\"✅ Updated Model Performance:\")\n",
    "print(f\"Accuracy: {accuracy:.4f}\")\n",
    "print(f\"Precision: {precision:.4f}\")\n",
    "print(f\"Recall: {recall:.4f}\")\n",
    "print(f\"F1-score: {f1:.4f}\")\n"
   ]
  },
  {
   "cell_type": "code",
   "execution_count": 70,
   "metadata": {},
   "outputs": [
    {
     "name": "stdout",
     "output_type": "stream",
     "text": [
      "SHAP Values Shape: (2209, 6, 2)\n",
      "X_test Shape: (2209, 6)\n"
     ]
    },
    {
     "name": "stderr",
     "output_type": "stream",
     "text": [
      "c:\\Users\\sreej\\AppData\\Local\\Programs\\Python\\Python310\\lib\\site-packages\\shap\\plots\\_beeswarm.py:627: UserWarning: FigureCanvasAgg is non-interactive, and thus cannot be shown\n",
      "  pl.show()\n"
     ]
    }
   ],
   "source": [
    "import shap\n",
    "\n",
    "# Use TreeExplainer for RandomForest\n",
    "explainer = shap.TreeExplainer(rf_model)\n",
    "shap_values = explainer.shap_values(X_test)\n",
    "\n",
    "# Check the shape of SHAP values and X_test\n",
    "print(\"SHAP Values Shape:\", np.array(shap_values).shape)\n",
    "print(\"X_test Shape:\", X_test.shape)\n",
    "\n",
    "# Ensure the shapes match\n",
    "if len(shap_values) == 2:  # If the model is binary classification\n",
    "    shap.summary_plot(shap_values[1], X_test)  # Use class 1 (Attrited)\n",
    "else:\n",
    "    shap.summary_plot(shap_values, X_test)  # Use directly if single output"
   ]
  },
  {
   "cell_type": "code",
   "execution_count": 71,
   "metadata": {},
   "outputs": [
    {
     "name": "stdout",
     "output_type": "stream",
     "text": [
      "💰 Updated Estimated Total Revenue Loss Due to Churn: $35,000.00\n",
      "💰 Updated Estimated Revenue Saved by Model: $5,000.00\n",
      "🚀 Updated Model Identified 14.29% of churners, preventing this portion\n"
     ]
    }
   ],
   "source": [
    "# Assume each retained customer generates $5,000 per year\n",
    "revenue_per_customer = 5000\n",
    "\n",
    "# Count correctly predicted churned customers\n",
    "true_churners = (y_test == 1).sum()\n",
    "predicted_churners = (y_pred_updated == 1).sum()\n",
    "correctly_identified = (y_test[y_test == 1] == y_pred_updated[y_test == 1]).sum()\n",
    "\n",
    "# Estimate revenue loss & savings\n",
    "revenue_loss = true_churners * revenue_per_customer\n",
    "revenue_saved = correctly_identified * revenue_per_customer\n",
    "\n",
    "print(f\"💰 Updated Estimated Total Revenue Loss Due to Churn: ${revenue_loss:,.2f}\")\n",
    "print(f\"💰 Updated Estimated Revenue Saved by Model: ${revenue_saved:,.2f}\")\n",
    "print(f\"🚀 Updated Model Identified {recall*100:.2f}% of churners, preventing this portion\")\n"
   ]
  },
  {
   "cell_type": "code",
   "execution_count": 72,
   "metadata": {},
   "outputs": [
    {
     "name": "stdout",
     "output_type": "stream",
     "text": [
      "Requirement already satisfied: streamlit in c:\\users\\sreej\\appdata\\local\\programs\\python\\python310\\lib\\site-packages (1.41.1)\n",
      "Requirement already satisfied: altair<6,>=4.0 in c:\\users\\sreej\\appdata\\local\\programs\\python\\python310\\lib\\site-packages (from streamlit) (5.5.0)\n",
      "Requirement already satisfied: blinker<2,>=1.0.0 in c:\\users\\sreej\\appdata\\local\\programs\\python\\python310\\lib\\site-packages (from streamlit) (1.9.0)\n",
      "Requirement already satisfied: cachetools<6,>=4.0 in c:\\users\\sreej\\appdata\\local\\programs\\python\\python310\\lib\\site-packages (from streamlit) (5.5.1)\n",
      "Requirement already satisfied: click<9,>=7.0 in c:\\users\\sreej\\appdata\\local\\programs\\python\\python310\\lib\\site-packages (from streamlit) (8.1.7)\n",
      "Requirement already satisfied: numpy<3,>=1.23 in c:\\users\\sreej\\appdata\\local\\programs\\python\\python310\\lib\\site-packages (from streamlit) (1.26.4)\n",
      "Requirement already satisfied: packaging<25,>=20 in c:\\users\\sreej\\appdata\\roaming\\python\\python310\\site-packages (from streamlit) (24.2)\n",
      "Requirement already satisfied: pandas<3,>=1.4.0 in c:\\users\\sreej\\appdata\\local\\programs\\python\\python310\\lib\\site-packages (from streamlit) (2.2.3)\n",
      "Requirement already satisfied: pillow<12,>=7.1.0 in c:\\users\\sreej\\appdata\\local\\programs\\python\\python310\\lib\\site-packages (from streamlit) (11.0.0)\n",
      "Requirement already satisfied: protobuf<6,>=3.20 in c:\\users\\sreej\\appdata\\local\\programs\\python\\python310\\lib\\site-packages (from streamlit) (3.20.3)\n",
      "Requirement already satisfied: pyarrow>=7.0 in c:\\users\\sreej\\appdata\\local\\programs\\python\\python310\\lib\\site-packages (from streamlit) (18.1.0)\n",
      "Requirement already satisfied: requests<3,>=2.27 in c:\\users\\sreej\\appdata\\local\\programs\\python\\python310\\lib\\site-packages (from streamlit) (2.32.3)\n",
      "Requirement already satisfied: rich<14,>=10.14.0 in c:\\users\\sreej\\appdata\\local\\programs\\python\\python310\\lib\\site-packages (from streamlit) (13.9.4)\n",
      "Requirement already satisfied: tenacity<10,>=8.1.0 in c:\\users\\sreej\\appdata\\local\\programs\\python\\python310\\lib\\site-packages (from streamlit) (9.0.0)\n",
      "Requirement already satisfied: toml<2,>=0.10.1 in c:\\users\\sreej\\appdata\\local\\programs\\python\\python310\\lib\\site-packages (from streamlit) (0.10.2)\n",
      "Requirement already satisfied: typing-extensions<5,>=4.3.0 in c:\\users\\sreej\\appdata\\roaming\\python\\python310\\site-packages (from streamlit) (4.12.2)\n",
      "Requirement already satisfied: watchdog<7,>=2.1.5 in c:\\users\\sreej\\appdata\\local\\programs\\python\\python310\\lib\\site-packages (from streamlit) (6.0.0)\n",
      "Requirement already satisfied: gitpython!=3.1.19,<4,>=3.0.7 in c:\\users\\sreej\\appdata\\local\\programs\\python\\python310\\lib\\site-packages (from streamlit) (3.1.44)\n",
      "Requirement already satisfied: pydeck<1,>=0.8.0b4 in c:\\users\\sreej\\appdata\\local\\programs\\python\\python310\\lib\\site-packages (from streamlit) (0.9.1)\n",
      "Requirement already satisfied: tornado<7,>=6.0.3 in c:\\users\\sreej\\appdata\\roaming\\python\\python310\\site-packages (from streamlit) (6.4.2)\n",
      "Requirement already satisfied: jinja2 in c:\\users\\sreej\\appdata\\local\\programs\\python\\python310\\lib\\site-packages (from altair<6,>=4.0->streamlit) (3.1.4)\n",
      "Requirement already satisfied: jsonschema>=3.0 in c:\\users\\sreej\\appdata\\local\\programs\\python\\python310\\lib\\site-packages (from altair<6,>=4.0->streamlit) (4.23.0)\n",
      "Requirement already satisfied: narwhals>=1.14.2 in c:\\users\\sreej\\appdata\\local\\programs\\python\\python310\\lib\\site-packages (from altair<6,>=4.0->streamlit) (1.23.0)\n",
      "Requirement already satisfied: colorama in c:\\users\\sreej\\appdata\\roaming\\python\\python310\\site-packages (from click<9,>=7.0->streamlit) (0.4.6)\n",
      "Requirement already satisfied: gitdb<5,>=4.0.1 in c:\\users\\sreej\\appdata\\local\\programs\\python\\python310\\lib\\site-packages (from gitpython!=3.1.19,<4,>=3.0.7->streamlit) (4.0.12)\n",
      "Requirement already satisfied: python-dateutil>=2.8.2 in c:\\users\\sreej\\appdata\\roaming\\python\\python310\\site-packages (from pandas<3,>=1.4.0->streamlit) (2.9.0.post0)\n",
      "Requirement already satisfied: pytz>=2020.1 in c:\\users\\sreej\\appdata\\local\\programs\\python\\python310\\lib\\site-packages (from pandas<3,>=1.4.0->streamlit) (2024.2)\n",
      "Requirement already satisfied: tzdata>=2022.7 in c:\\users\\sreej\\appdata\\local\\programs\\python\\python310\\lib\\site-packages (from pandas<3,>=1.4.0->streamlit) (2024.2)\n",
      "Requirement already satisfied: charset-normalizer<4,>=2 in c:\\users\\sreej\\appdata\\local\\programs\\python\\python310\\lib\\site-packages (from requests<3,>=2.27->streamlit) (3.4.0)\n",
      "Requirement already satisfied: idna<4,>=2.5 in c:\\users\\sreej\\appdata\\local\\programs\\python\\python310\\lib\\site-packages (from requests<3,>=2.27->streamlit) (3.10)\n",
      "Requirement already satisfied: urllib3<3,>=1.21.1 in c:\\users\\sreej\\appdata\\local\\programs\\python\\python310\\lib\\site-packages (from requests<3,>=2.27->streamlit) (2.2.3)\n",
      "Requirement already satisfied: certifi>=2017.4.17 in c:\\users\\sreej\\appdata\\local\\programs\\python\\python310\\lib\\site-packages (from requests<3,>=2.27->streamlit) (2024.8.30)\n",
      "Requirement already satisfied: markdown-it-py>=2.2.0 in c:\\users\\sreej\\appdata\\local\\programs\\python\\python310\\lib\\site-packages (from rich<14,>=10.14.0->streamlit) (3.0.0)\n",
      "Requirement already satisfied: pygments<3.0.0,>=2.13.0 in c:\\users\\sreej\\appdata\\roaming\\python\\python310\\site-packages (from rich<14,>=10.14.0->streamlit) (2.18.0)\n",
      "Requirement already satisfied: smmap<6,>=3.0.1 in c:\\users\\sreej\\appdata\\local\\programs\\python\\python310\\lib\\site-packages (from gitdb<5,>=4.0.1->gitpython!=3.1.19,<4,>=3.0.7->streamlit) (5.0.2)\n",
      "Requirement already satisfied: MarkupSafe>=2.0 in c:\\users\\sreej\\appdata\\local\\programs\\python\\python310\\lib\\site-packages (from jinja2->altair<6,>=4.0->streamlit) (3.0.2)\n",
      "Requirement already satisfied: attrs>=22.2.0 in c:\\users\\sreej\\appdata\\local\\programs\\python\\python310\\lib\\site-packages (from jsonschema>=3.0->altair<6,>=4.0->streamlit) (24.3.0)\n",
      "Requirement already satisfied: jsonschema-specifications>=2023.03.6 in c:\\users\\sreej\\appdata\\local\\programs\\python\\python310\\lib\\site-packages (from jsonschema>=3.0->altair<6,>=4.0->streamlit) (2024.10.1)\n",
      "Requirement already satisfied: referencing>=0.28.4 in c:\\users\\sreej\\appdata\\local\\programs\\python\\python310\\lib\\site-packages (from jsonschema>=3.0->altair<6,>=4.0->streamlit) (0.36.1)\n",
      "Requirement already satisfied: rpds-py>=0.7.1 in c:\\users\\sreej\\appdata\\local\\programs\\python\\python310\\lib\\site-packages (from jsonschema>=3.0->altair<6,>=4.0->streamlit) (0.22.3)\n",
      "Requirement already satisfied: mdurl~=0.1 in c:\\users\\sreej\\appdata\\local\\programs\\python\\python310\\lib\\site-packages (from markdown-it-py>=2.2.0->rich<14,>=10.14.0->streamlit) (0.1.2)\n",
      "Requirement already satisfied: six>=1.5 in c:\\users\\sreej\\appdata\\roaming\\python\\python310\\site-packages (from python-dateutil>=2.8.2->pandas<3,>=1.4.0->streamlit) (1.17.0)\n",
      "Note: you may need to restart the kernel to use updated packages.\n"
     ]
    },
    {
     "name": "stderr",
     "output_type": "stream",
     "text": [
      "WARNING: Ignoring invalid distribution -rotobuf (c:\\users\\sreej\\appdata\\local\\programs\\python\\python310\\lib\\site-packages)\n",
      "WARNING: Ignoring invalid distribution -rotobuf (c:\\users\\sreej\\appdata\\local\\programs\\python\\python310\\lib\\site-packages)\n",
      "WARNING: Ignoring invalid distribution -rotobuf (c:\\users\\sreej\\appdata\\local\\programs\\python\\python310\\lib\\site-packages)\n"
     ]
    }
   ],
   "source": [
    "pip install streamlit"
   ]
  },
  {
   "cell_type": "markdown",
   "metadata": {},
   "source": [
    "train with ces and cast"
   ]
  },
  {
   "cell_type": "code",
   "execution_count": 73,
   "metadata": {},
   "outputs": [],
   "source": [
    "df = pd.read_excel(\"C:/Users/sreej/OneDrive/Desktop/cibc.xlsx\")"
   ]
  },
  {
   "cell_type": "code",
   "execution_count": 75,
   "metadata": {},
   "outputs": [
    {
     "name": "stdout",
     "output_type": "stream",
     "text": [
      "Index(['Client ID', 'Survey Response Date', 'Survey Response Channel',\n",
      "       'NPS Score', 'Client First Service Date', 'Age', 'Gender', 'Province',\n",
      "       'High Value Client Indicator', 'Has Credit Card', 'Has Deposit Account',\n",
      "       'Has Investment Account', 'Has Borrowing Product',\n",
      "       'Total Product Count', 'Total Funds Managed', 'Chequing Balance',\n",
      "       'Savings Balance', 'Credit Card Balance', 'Client Attrited'],\n",
      "      dtype='object')\n"
     ]
    }
   ],
   "source": [
    "print(df.columns)  # Check all column names\n"
   ]
  },
  {
   "cell_type": "code",
   "execution_count": 76,
   "metadata": {},
   "outputs": [
    {
     "name": "stdout",
     "output_type": "stream",
     "text": [
      "0    5.326890\n",
      "1    3.820151\n",
      "2    5.498770\n",
      "3    4.344596\n",
      "4    5.326636\n",
      "Name: CES_Estimate, dtype: float64\n"
     ]
    }
   ],
   "source": [
    "# Normalize relevant features for CES calculation\n",
    "df['CES_Estimate'] = (\n",
    "    (df['Total Product Count'] / df['Total Product Count'].max()) * 3 +  \n",
    "    (df['Total Funds Managed'] / df['Total Funds Managed'].max()) * 2 +  \n",
    "    (df['Has Borrowing Product'] * 1) +  \n",
    "    (df['Has Credit Card'] * 1)  \n",
    ")\n",
    "\n",
    "# Scale CES to a 1-7 scale\n",
    "df['CES_Estimate'] = 7 - (df['CES_Estimate'] / df['CES_Estimate'].max()) * 6\n",
    "\n",
    "# Verify it exists\n",
    "print(df['CES_Estimate'].head())\n"
   ]
  },
  {
   "cell_type": "code",
   "execution_count": 79,
   "metadata": {},
   "outputs": [
    {
     "name": "stdout",
     "output_type": "stream",
     "text": [
      "20\n"
     ]
    }
   ],
   "source": [
    "print(df[\"CES_Estimate\"].isna().sum())  # Count missing values in CES_Estimate\n"
   ]
  },
  {
   "cell_type": "code",
   "execution_count": 80,
   "metadata": {},
   "outputs": [],
   "source": [
    "df[\"CES_Estimate\"].fillna(df[\"CES_Estimate\"].median(), inplace=True)\n"
   ]
  },
  {
   "cell_type": "code",
   "execution_count": 81,
   "metadata": {},
   "outputs": [
    {
     "name": "stdout",
     "output_type": "stream",
     "text": [
      "0\n"
     ]
    }
   ],
   "source": [
    "print(df[\"CES_Estimate\"].isna().sum())  # Should print 0\n"
   ]
  },
  {
   "cell_type": "code",
   "execution_count": 82,
   "metadata": {},
   "outputs": [
    {
     "name": "stdout",
     "output_type": "stream",
     "text": [
      "✅ CES Model Trained and Saved!\n"
     ]
    }
   ],
   "source": [
    "from sklearn.model_selection import train_test_split\n",
    "from sklearn.ensemble import RandomForestRegressor\n",
    "import joblib\n",
    "\n",
    "# Define input features\n",
    "X_ces = df[[\"Total Product Count\", \"Total Funds Managed\", \"Has Credit Card\", \"Has Borrowing Product\", \"NPS Score\"]]\n",
    "y_ces = df[\"CES_Estimate\"]\n",
    "\n",
    "# Train-test split\n",
    "X_train_ces, X_test_ces, y_train_ces, y_test_ces = train_test_split(X_ces, y_ces, test_size=0.2, random_state=42)\n",
    "\n",
    "# Train CES model\n",
    "ces_model = RandomForestRegressor(n_estimators=100, random_state=42)\n",
    "ces_model.fit(X_train_ces, y_train_ces)\n",
    "\n",
    "# Save model\n",
    "joblib.dump(ces_model, \"ces_model.pkl\")\n",
    "\n",
    "print(\"✅ CES Model Trained and Saved!\")\n"
   ]
  },
  {
   "cell_type": "code",
   "execution_count": 84,
   "metadata": {},
   "outputs": [
    {
     "name": "stdout",
     "output_type": "stream",
     "text": [
      "Index(['Client ID', 'Survey Response Date', 'Survey Response Channel',\n",
      "       'NPS Score', 'Client First Service Date', 'Age', 'Gender', 'Province',\n",
      "       'High Value Client Indicator', 'Has Credit Card', 'Has Deposit Account',\n",
      "       'Has Investment Account', 'Has Borrowing Product',\n",
      "       'Total Product Count', 'Total Funds Managed', 'Chequing Balance',\n",
      "       'Savings Balance', 'Credit Card Balance', 'Client Attrited',\n",
      "       'CES_Estimate'],\n",
      "      dtype='object')\n"
     ]
    }
   ],
   "source": [
    "print(df.columns)\n"
   ]
  },
  {
   "cell_type": "code",
   "execution_count": 85,
   "metadata": {},
   "outputs": [],
   "source": [
    "# Convert to datetime format\n",
    "df['Survey Response Date'] = pd.to_datetime(df['Survey Response Date'])\n",
    "df['Client First Service Date'] = pd.to_datetime(df['Client First Service Date'])\n",
    "\n",
    "# Calculate Customer Tenure in years\n",
    "df['Customer Tenure'] = (df['Survey Response Date'] - df['Client First Service Date']).dt.days / 365\n"
   ]
  },
  {
   "cell_type": "code",
   "execution_count": 86,
   "metadata": {},
   "outputs": [],
   "source": [
    "df = pd.get_dummies(df, columns=['Survey Response Channel'], drop_first=True)\n"
   ]
  },
  {
   "cell_type": "code",
   "execution_count": 87,
   "metadata": {},
   "outputs": [
    {
     "name": "stderr",
     "output_type": "stream",
     "text": [
      "C:\\Users\\sreej\\AppData\\Local\\Temp\\ipykernel_22980\\2218738875.py:1: FutureWarning: A value is trying to be set on a copy of a DataFrame or Series through chained assignment using an inplace method.\n",
      "The behavior will change in pandas 3.0. This inplace method will never work because the intermediate object on which we are setting values always behaves as a copy.\n",
      "\n",
      "For example, when doing 'df[col].method(value, inplace=True)', try using 'df.method({col: value}, inplace=True)' or df[col] = df[col].method(value) instead, to perform the operation inplace on the original object.\n",
      "\n",
      "\n",
      "  df['Customer Tenure'].fillna(df['Customer Tenure'].median(), inplace=True)\n"
     ]
    }
   ],
   "source": [
    "df['Customer Tenure'].fillna(df['Customer Tenure'].median(), inplace=True)\n",
    "\n",
    "# If 'Survey Response Channel_Online' was not created, it means only one category exists. Fill it manually:\n",
    "if 'Survey Response Channel_Online' not in df.columns:\n",
    "    df['Survey Response Channel_Online'] = 0  # Assuming all responses were from 'Mobile'\n"
   ]
  },
  {
   "cell_type": "code",
   "execution_count": 88,
   "metadata": {},
   "outputs": [
    {
     "name": "stdout",
     "output_type": "stream",
     "text": [
      "Index(['Client ID', 'Survey Response Date', 'NPS Score',\n",
      "       'Client First Service Date', 'Age', 'Gender', 'Province',\n",
      "       'High Value Client Indicator', 'Has Credit Card', 'Has Deposit Account',\n",
      "       'Has Investment Account', 'Has Borrowing Product',\n",
      "       'Total Product Count', 'Total Funds Managed', 'Chequing Balance',\n",
      "       'Savings Balance', 'Credit Card Balance', 'Client Attrited',\n",
      "       'CES_Estimate', 'Customer Tenure', 'Survey Response Channel_Online'],\n",
      "      dtype='object')\n"
     ]
    }
   ],
   "source": [
    "print(df.columns)  # Ensure 'Customer Tenure' and 'Survey Response Channel_Online' exist\n"
   ]
  },
  {
   "cell_type": "code",
   "execution_count": 90,
   "metadata": {},
   "outputs": [],
   "source": [
    "import numpy as np\n",
    "\n",
    "def nps_to_csat(nps):\n",
    "    if nps >= 9:\n",
    "        return np.random.uniform(80, 100)  # Promoters (High Satisfaction)\n",
    "    elif nps >= 7:\n",
    "        return np.random.uniform(60, 79)   # Passives (Medium Satisfaction)\n",
    "    else:\n",
    "        return np.random.uniform(0, 59)    # Detractors (Low Satisfaction)\n",
    "\n",
    "# Apply function to create CSAT Score\n",
    "df[\"CSAT_Score\"] = df[\"NPS Score\"].apply(nps_to_csat)\n"
   ]
  },
  {
   "cell_type": "code",
   "execution_count": 91,
   "metadata": {},
   "outputs": [
    {
     "name": "stdout",
     "output_type": "stream",
     "text": [
      "   NPS Score  CSAT_Score\n",
      "0          0   58.820837\n",
      "1          9   96.145755\n",
      "2          9   97.829824\n",
      "3         10   88.971905\n",
      "4          8   75.596529\n"
     ]
    }
   ],
   "source": [
    "print(df[[\"NPS Score\", \"CSAT_Score\"]].head())\n"
   ]
  },
  {
   "cell_type": "code",
   "execution_count": 92,
   "metadata": {},
   "outputs": [],
   "source": [
    "X_csat = df[[\"NPS Score\", \"Total Product Count\", \"Customer Tenure\", \"Survey Response Channel_Online\"]]\n",
    "y_csat = df[\"CSAT_Score\"]\n"
   ]
  },
  {
   "cell_type": "code",
   "execution_count": 93,
   "metadata": {},
   "outputs": [
    {
     "name": "stdout",
     "output_type": "stream",
     "text": [
      "NPS Score                         0\n",
      "Total Product Count               0\n",
      "Customer Tenure                   0\n",
      "Survey Response Channel_Online    0\n",
      "CSAT_Score                        0\n",
      "dtype: int64\n"
     ]
    }
   ],
   "source": [
    "# Check for missing values\n",
    "print(df[[\"NPS Score\", \"Total Product Count\", \"Customer Tenure\", \"Survey Response Channel_Online\", \"CSAT_Score\"]].isna().sum())\n"
   ]
  },
  {
   "cell_type": "code",
   "execution_count": 94,
   "metadata": {},
   "outputs": [],
   "source": [
    "from sklearn.model_selection import train_test_split\n",
    "\n",
    "# Define input features (X) and target variable (y)\n",
    "X_csat = df[[\"NPS Score\", \"Total Product Count\", \"Customer Tenure\", \"Survey Response Channel_Online\"]]\n",
    "y_csat = df[\"CSAT_Score\"]\n",
    "\n",
    "# Split dataset into training (80%) and testing (20%)\n",
    "X_train_csat, X_test_csat, y_train_csat, y_test_csat = train_test_split(X_csat, y_csat, test_size=0.2, random_state=42)\n"
   ]
  },
  {
   "cell_type": "code",
   "execution_count": 95,
   "metadata": {},
   "outputs": [
    {
     "name": "stdout",
     "output_type": "stream",
     "text": [
      "✅ CSAT Model Performance:\n",
      "Mean Absolute Error (MAE): 6.55\n",
      "Mean Squared Error (MSE): 75.58\n",
      "R² Score: 0.84\n"
     ]
    }
   ],
   "source": [
    "from sklearn.ensemble import RandomForestRegressor\n",
    "from sklearn.metrics import mean_absolute_error, mean_squared_error, r2_score\n",
    "\n",
    "# Train model\n",
    "csat_model = RandomForestRegressor(n_estimators=100, random_state=42)\n",
    "csat_model.fit(X_train_csat, y_train_csat)\n",
    "\n",
    "# Make predictions\n",
    "y_pred_csat = csat_model.predict(X_test_csat)\n",
    "\n",
    "# Evaluate model\n",
    "mae = mean_absolute_error(y_test_csat, y_pred_csat)\n",
    "mse = mean_squared_error(y_test_csat, y_pred_csat)\n",
    "r2 = r2_score(y_test_csat, y_pred_csat)\n",
    "\n",
    "print(f\"✅ CSAT Model Performance:\")\n",
    "print(f\"Mean Absolute Error (MAE): {mae:.2f}\")\n",
    "print(f\"Mean Squared Error (MSE): {mse:.2f}\")\n",
    "print(f\"R² Score: {r2:.2f}\")\n"
   ]
  },
  {
   "cell_type": "code",
   "execution_count": 96,
   "metadata": {},
   "outputs": [],
   "source": [
    "import joblib\n",
    "\n",
    "# Save model\n",
    "joblib.dump(csat_model, \"csat_model.pkl\")\n",
    "\n",
    "# Load model (if needed)\n",
    "loaded_csat_model = joblib.load(\"csat_model.pkl\")\n"
   ]
  },
  {
   "cell_type": "code",
   "execution_count": 99,
   "metadata": {},
   "outputs": [
    {
     "name": "stderr",
     "output_type": "stream",
     "text": [
      "2025-01-22 16:16:29.677 Thread 'MainThread': missing ScriptRunContext! This warning can be ignored when running in bare mode.\n",
      "2025-01-22 16:16:29.679 Thread 'MainThread': missing ScriptRunContext! This warning can be ignored when running in bare mode.\n",
      "2025-01-22 16:16:29.683 Thread 'MainThread': missing ScriptRunContext! This warning can be ignored when running in bare mode.\n",
      "2025-01-22 16:16:29.685 Thread 'MainThread': missing ScriptRunContext! This warning can be ignored when running in bare mode.\n",
      "2025-01-22 16:16:29.690 Thread 'MainThread': missing ScriptRunContext! This warning can be ignored when running in bare mode.\n",
      "2025-01-22 16:16:29.691 Thread 'MainThread': missing ScriptRunContext! This warning can be ignored when running in bare mode.\n",
      "2025-01-22 16:16:29.692 Thread 'MainThread': missing ScriptRunContext! This warning can be ignored when running in bare mode.\n",
      "2025-01-22 16:16:29.693 Thread 'MainThread': missing ScriptRunContext! This warning can be ignored when running in bare mode.\n",
      "2025-01-22 16:16:29.693 Thread 'MainThread': missing ScriptRunContext! This warning can be ignored when running in bare mode.\n",
      "2025-01-22 16:16:29.694 Thread 'MainThread': missing ScriptRunContext! This warning can be ignored when running in bare mode.\n",
      "2025-01-22 16:16:29.695 Thread 'MainThread': missing ScriptRunContext! This warning can be ignored when running in bare mode.\n",
      "2025-01-22 16:16:29.697 Thread 'MainThread': missing ScriptRunContext! This warning can be ignored when running in bare mode.\n",
      "2025-01-22 16:16:29.698 Thread 'MainThread': missing ScriptRunContext! This warning can be ignored when running in bare mode.\n",
      "2025-01-22 16:16:29.698 Thread 'MainThread': missing ScriptRunContext! This warning can be ignored when running in bare mode.\n",
      "2025-01-22 16:16:29.700 Thread 'MainThread': missing ScriptRunContext! This warning can be ignored when running in bare mode.\n",
      "2025-01-22 16:16:29.701 Thread 'MainThread': missing ScriptRunContext! This warning can be ignored when running in bare mode.\n",
      "2025-01-22 16:16:29.702 Thread 'MainThread': missing ScriptRunContext! This warning can be ignored when running in bare mode.\n",
      "2025-01-22 16:16:29.703 Thread 'MainThread': missing ScriptRunContext! This warning can be ignored when running in bare mode.\n",
      "2025-01-22 16:16:29.704 Thread 'MainThread': missing ScriptRunContext! This warning can be ignored when running in bare mode.\n",
      "2025-01-22 16:16:29.705 Thread 'MainThread': missing ScriptRunContext! This warning can be ignored when running in bare mode.\n",
      "2025-01-22 16:16:29.706 Thread 'MainThread': missing ScriptRunContext! This warning can be ignored when running in bare mode.\n",
      "2025-01-22 16:16:29.706 Thread 'MainThread': missing ScriptRunContext! This warning can be ignored when running in bare mode.\n",
      "2025-01-22 16:16:29.708 Thread 'MainThread': missing ScriptRunContext! This warning can be ignored when running in bare mode.\n",
      "2025-01-22 16:16:29.709 Thread 'MainThread': missing ScriptRunContext! This warning can be ignored when running in bare mode.\n",
      "2025-01-22 16:16:29.709 Thread 'MainThread': missing ScriptRunContext! This warning can be ignored when running in bare mode.\n",
      "2025-01-22 16:16:29.710 Thread 'MainThread': missing ScriptRunContext! This warning can be ignored when running in bare mode.\n",
      "2025-01-22 16:16:29.711 Thread 'MainThread': missing ScriptRunContext! This warning can be ignored when running in bare mode.\n",
      "2025-01-22 16:16:29.712 Thread 'MainThread': missing ScriptRunContext! This warning can be ignored when running in bare mode.\n",
      "2025-01-22 16:16:29.713 Thread 'MainThread': missing ScriptRunContext! This warning can be ignored when running in bare mode.\n",
      "2025-01-22 16:16:29.714 Thread 'MainThread': missing ScriptRunContext! This warning can be ignored when running in bare mode.\n",
      "2025-01-22 16:16:29.715 Thread 'MainThread': missing ScriptRunContext! This warning can be ignored when running in bare mode.\n",
      "2025-01-22 16:16:29.716 Thread 'MainThread': missing ScriptRunContext! This warning can be ignored when running in bare mode.\n",
      "2025-01-22 16:16:29.717 Thread 'MainThread': missing ScriptRunContext! This warning can be ignored when running in bare mode.\n",
      "2025-01-22 16:16:29.718 Thread 'MainThread': missing ScriptRunContext! This warning can be ignored when running in bare mode.\n"
     ]
    }
   ],
   "source": [
    "import streamlit as st\n",
    "import joblib\n",
    "import numpy as np\n",
    "\n",
    "# Load the trained CSAT model\n",
    "csat_model = joblib.load(\"csat_model.pkl\")\n",
    "\n",
    "# Streamlit UI\n",
    "st.title(\"📊 CSAT Prediction Form\")\n",
    "\n",
    "st.write(\"\"\"\n",
    "Enter the customer details below to predict the **Customer Satisfaction Score (CSAT)**.\n",
    "\"\"\")\n",
    "\n",
    "# User Inputs\n",
    "nps_score = st.slider(\"NPS Score (0-10)\", min_value=0, max_value=10, value=7)\n",
    "total_products = st.number_input(\"Total Product Count\", min_value=1, max_value=10, value=3)\n",
    "customer_tenure = st.number_input(\"Customer Tenure (Years)\", min_value=0.0, max_value=50.0, value=5.0)\n",
    "survey_channel = st.selectbox(\"Survey Response Channel\", [\"Mobile\", \"Online\"])\n",
    "\n",
    "# Convert categorical input\n",
    "survey_channel_encoded = 1 if survey_channel == \"Online\" else 0\n",
    "\n",
    "# Prediction Button\n",
    "if st.button(\"Predict CSAT Score\"):\n",
    "    input_features = np.array([[nps_score, total_products, customer_tenure, survey_channel_encoded]])\n",
    "    predicted_csat = csat_model.predict(input_features)[0]\n",
    "    \n",
    "    st.success(f\"📈 Predicted CSAT Score: **{predicted_csat:.2f}**\")\n",
    "\n",
    "    # Estimate revenue impact\n",
    "    revenue_per_happy_customer = 5000  # Assume $5000 per happy customer\n",
    "    \n",
    "    if predicted_csat >= 80:\n",
    "        estimated_revenue = revenue_per_happy_customer\n",
    "    elif predicted_csat >= 60:\n",
    "        estimated_revenue = revenue_per_happy_customer * 0.75\n",
    "    else:\n",
    "        estimated_revenue = revenue_per_happy_customer * 0.5\n",
    "\n",
    "    st.info(f\"💰 **Estimated Revenue Impact**: ${estimated_revenue:.2f}\")\n",
    "\n"
   ]
  },
  {
   "cell_type": "code",
   "execution_count": 100,
   "metadata": {},
   "outputs": [
    {
     "name": "stdout",
     "output_type": "stream",
     "text": [
      "Estimated Revenue from this customer: $5000.00\n"
     ]
    },
    {
     "name": "stderr",
     "output_type": "stream",
     "text": [
      "c:\\Users\\sreej\\AppData\\Local\\Programs\\Python\\Python310\\lib\\site-packages\\sklearn\\utils\\validation.py:2739: UserWarning: X does not have valid feature names, but RandomForestRegressor was fitted with feature names\n",
      "  warnings.warn(\n"
     ]
    }
   ],
   "source": [
    "# Assume each happy customer generates $5,000 annually\n",
    "revenue_per_happy_customer = 5000  \n",
    "\n",
    "# Estimate revenue impact\n",
    "def estimate_revenue(nps, predicted_csat):\n",
    "    if predicted_csat >= 80:  # High satisfaction\n",
    "        return revenue_per_happy_customer\n",
    "    elif predicted_csat >= 60:  # Medium satisfaction\n",
    "        return revenue_per_happy_customer * 0.75\n",
    "    else:  # Low satisfaction\n",
    "        return revenue_per_happy_customer * 0.5\n",
    "\n",
    "# Example usage\n",
    "predicted_csat = csat_model.predict([[9, 4, 6, 1]])[0]  # Example input\n",
    "estimated_revenue = estimate_revenue(9, predicted_csat)\n",
    "\n",
    "print(f\"Estimated Revenue from this customer: ${estimated_revenue:.2f}\")\n"
   ]
  },
  {
   "cell_type": "markdown",
   "metadata": {},
   "source": [
    "Run the Streamlit App\n",
    "After saving the file, open a terminal or command prompt in the same folder and run:"
   ]
  },
  {
   "cell_type": "markdown",
   "metadata": {},
   "source": [
    "streamlit run csat_prediction_app.py"
   ]
  },
  {
   "cell_type": "markdown",
   "metadata": {},
   "source": [
    "Summary\n",
    "1️⃣ Install Streamlit\n",
    "2️⃣ Save the code as csat_prediction_app.py\n",
    "3️⃣ Run: streamlit run csat_prediction_app.py\n",
    "4️⃣ Enter values & get Predicted CSAT + Estimated Revenue"
   ]
  },
  {
   "cell_type": "markdown",
   "metadata": {},
   "source": []
  },
  {
   "cell_type": "code",
   "execution_count": 106,
   "metadata": {},
   "outputs": [
    {
     "name": "stderr",
     "output_type": "stream",
     "text": [
      "C:\\Users\\sreej\\AppData\\Local\\Temp\\ipykernel_22980\\2759259577.py:19: SettingWithCopyWarning: \n",
      "A value is trying to be set on a copy of a slice from a DataFrame\n",
      "\n",
      "See the caveats in the documentation: https://pandas.pydata.org/pandas-docs/stable/user_guide/indexing.html#returning-a-view-versus-a-copy\n",
      "  X.fillna(X.mean(), inplace=True)\n"
     ]
    },
    {
     "name": "stdout",
     "output_type": "stream",
     "text": [
      "✅ Model Performance:\n",
      "Accuracy: 0.9973\n",
      "Precision: 0.6667\n",
      "Recall: 0.2857\n",
      "F1-score: 0.4000\n"
     ]
    }
   ],
   "source": [
    "import pandas as pd\n",
    "import numpy as np\n",
    "from sklearn.model_selection import train_test_split\n",
    "from sklearn.ensemble import RandomForestClassifier\n",
    "from sklearn.metrics import accuracy_score, precision_score, recall_score, f1_score\n",
    "\n",
    "# Define feature set\n",
    "features = [\n",
    "    \"NPS Score\", \"Total Product Count\", \"Customer Tenure\", \n",
    "    \"Chequing Balance\", \"Savings Balance\", \"Credit Card Balance\", \n",
    "    \"Has Credit Card\", \"Has Borrowing Product\", \"CES_Estimate\"\n",
    "]\n",
    "\n",
    "# Select features & target\n",
    "X = df[features]\n",
    "y = df[\"Client Attrited\"].map({\"Yes\": 1, \"No\": 0})  # Convert to binary (Yes=1, No=0)\n",
    "\n",
    "# Handle missing values\n",
    "X.fillna(X.mean(), inplace=True)\n",
    "\n",
    "# Train-test split\n",
    "X_train, X_test, y_train, y_test = train_test_split(X, y, test_size=0.2, random_state=42)\n",
    "\n",
    "# Train model\n",
    "rf_model = RandomForestClassifier(n_estimators=100, random_state=42, class_weight=\"balanced\")\n",
    "rf_model.fit(X_train, y_train)\n",
    "\n",
    "# Predict\n",
    "y_pred = rf_model.predict(X_test)\n",
    "\n",
    "# Evaluate model\n",
    "accuracy = accuracy_score(y_test, y_pred)\n",
    "precision = precision_score(y_test, y_pred)\n",
    "recall = recall_score(y_test, y_pred)\n",
    "f1 = f1_score(y_test, y_pred)\n",
    "\n",
    "print(f\"✅ Model Performance:\")\n",
    "print(f\"Accuracy: {accuracy:.4f}\")\n",
    "print(f\"Precision: {precision:.4f}\")\n",
    "print(f\"Recall: {recall:.4f}\")\n",
    "print(f\"F1-score: {f1:.4f}\")\n"
   ]
  },
  {
   "cell_type": "code",
   "execution_count": 107,
   "metadata": {},
   "outputs": [
    {
     "name": "stderr",
     "output_type": "stream",
     "text": [
      "2025-01-22 16:33:57.866 Thread 'MainThread': missing ScriptRunContext! This warning can be ignored when running in bare mode.\n",
      "2025-01-22 16:33:57.872 Thread 'MainThread': missing ScriptRunContext! This warning can be ignored when running in bare mode.\n",
      "2025-01-22 16:33:57.875 Thread 'MainThread': missing ScriptRunContext! This warning can be ignored when running in bare mode.\n",
      "2025-01-22 16:33:57.877 Thread 'MainThread': missing ScriptRunContext! This warning can be ignored when running in bare mode.\n",
      "2025-01-22 16:33:57.881 Thread 'MainThread': missing ScriptRunContext! This warning can be ignored when running in bare mode.\n",
      "2025-01-22 16:33:57.883 Thread 'MainThread': missing ScriptRunContext! This warning can be ignored when running in bare mode.\n",
      "2025-01-22 16:33:57.887 Thread 'MainThread': missing ScriptRunContext! This warning can be ignored when running in bare mode.\n",
      "2025-01-22 16:33:57.890 Thread 'MainThread': missing ScriptRunContext! This warning can be ignored when running in bare mode.\n",
      "2025-01-22 16:33:57.893 Thread 'MainThread': missing ScriptRunContext! This warning can be ignored when running in bare mode.\n",
      "2025-01-22 16:33:57.896 Thread 'MainThread': missing ScriptRunContext! This warning can be ignored when running in bare mode.\n",
      "2025-01-22 16:33:57.900 Thread 'MainThread': missing ScriptRunContext! This warning can be ignored when running in bare mode.\n",
      "2025-01-22 16:33:57.903 Thread 'MainThread': missing ScriptRunContext! This warning can be ignored when running in bare mode.\n",
      "2025-01-22 16:33:57.907 Thread 'MainThread': missing ScriptRunContext! This warning can be ignored when running in bare mode.\n",
      "2025-01-22 16:33:57.909 Thread 'MainThread': missing ScriptRunContext! This warning can be ignored when running in bare mode.\n",
      "2025-01-22 16:33:57.913 Thread 'MainThread': missing ScriptRunContext! This warning can be ignored when running in bare mode.\n",
      "2025-01-22 16:33:57.915 Thread 'MainThread': missing ScriptRunContext! This warning can be ignored when running in bare mode.\n",
      "2025-01-22 16:33:57.918 Thread 'MainThread': missing ScriptRunContext! This warning can be ignored when running in bare mode.\n",
      "2025-01-22 16:33:57.920 Thread 'MainThread': missing ScriptRunContext! This warning can be ignored when running in bare mode.\n",
      "2025-01-22 16:33:57.923 Thread 'MainThread': missing ScriptRunContext! This warning can be ignored when running in bare mode.\n",
      "2025-01-22 16:33:57.925 Thread 'MainThread': missing ScriptRunContext! This warning can be ignored when running in bare mode.\n",
      "2025-01-22 16:33:57.929 Thread 'MainThread': missing ScriptRunContext! This warning can be ignored when running in bare mode.\n",
      "2025-01-22 16:33:57.932 Thread 'MainThread': missing ScriptRunContext! This warning can be ignored when running in bare mode.\n",
      "2025-01-22 16:33:57.935 Thread 'MainThread': missing ScriptRunContext! This warning can be ignored when running in bare mode.\n",
      "2025-01-22 16:33:57.938 Thread 'MainThread': missing ScriptRunContext! This warning can be ignored when running in bare mode.\n",
      "2025-01-22 16:33:57.941 Thread 'MainThread': missing ScriptRunContext! This warning can be ignored when running in bare mode.\n",
      "2025-01-22 16:33:57.944 Thread 'MainThread': missing ScriptRunContext! This warning can be ignored when running in bare mode.\n",
      "2025-01-22 16:33:57.947 Thread 'MainThread': missing ScriptRunContext! This warning can be ignored when running in bare mode.\n",
      "2025-01-22 16:33:57.949 Thread 'MainThread': missing ScriptRunContext! This warning can be ignored when running in bare mode.\n",
      "2025-01-22 16:33:57.952 Thread 'MainThread': missing ScriptRunContext! This warning can be ignored when running in bare mode.\n",
      "2025-01-22 16:33:57.954 Thread 'MainThread': missing ScriptRunContext! This warning can be ignored when running in bare mode.\n",
      "2025-01-22 16:33:57.956 Thread 'MainThread': missing ScriptRunContext! This warning can be ignored when running in bare mode.\n",
      "2025-01-22 16:33:57.960 Thread 'MainThread': missing ScriptRunContext! This warning can be ignored when running in bare mode.\n",
      "2025-01-22 16:33:57.963 Thread 'MainThread': missing ScriptRunContext! This warning can be ignored when running in bare mode.\n",
      "2025-01-22 16:33:57.966 Thread 'MainThread': missing ScriptRunContext! This warning can be ignored when running in bare mode.\n",
      "2025-01-22 16:33:57.968 Thread 'MainThread': missing ScriptRunContext! This warning can be ignored when running in bare mode.\n",
      "2025-01-22 16:33:57.972 Thread 'MainThread': missing ScriptRunContext! This warning can be ignored when running in bare mode.\n",
      "2025-01-22 16:33:57.976 Thread 'MainThread': missing ScriptRunContext! This warning can be ignored when running in bare mode.\n",
      "2025-01-22 16:33:57.980 Thread 'MainThread': missing ScriptRunContext! This warning can be ignored when running in bare mode.\n",
      "2025-01-22 16:33:57.983 Thread 'MainThread': missing ScriptRunContext! This warning can be ignored when running in bare mode.\n",
      "2025-01-22 16:33:57.985 Thread 'MainThread': missing ScriptRunContext! This warning can be ignored when running in bare mode.\n",
      "2025-01-22 16:33:57.988 Thread 'MainThread': missing ScriptRunContext! This warning can be ignored when running in bare mode.\n"
     ]
    }
   ],
   "source": [
    "import streamlit as st\n",
    "import joblib\n",
    "\n",
    "# Save model\n",
    "joblib.dump(rf_model, \"attrition_model.pkl\")\n",
    "\n",
    "# Load trained model\n",
    "model = joblib.load(\"attrition_model.pkl\")\n",
    "\n",
    "st.title(\"Customer Attrition Prediction\")\n",
    "st.write(\"Enter customer details to predict whether they will leave.\")\n",
    "\n",
    "# Form inputs\n",
    "nps = st.number_input(\"NPS Score\", min_value=0, max_value=10)\n",
    "total_product_count = st.number_input(\"Total Product Count\", min_value=0, max_value=10)\n",
    "tenure = st.number_input(\"Customer Tenure (Years)\", min_value=0.0, max_value=50.0)\n",
    "credit_balance = st.number_input(\"Credit Card Balance ($)\", min_value=0.0)\n",
    "ces_estimate = st.number_input(\"CES Estimate (1-7)\", min_value=1.0, max_value=7.0)\n",
    "\n",
    "if st.button(\"Predict Attrition\"):\n",
    "    input_data = [[nps, total_product_count, tenure, credit_balance, ces_estimate]]\n",
    "    prediction = model.predict(input_data)\n",
    "    result = \"Attrited (Churned)\" if prediction[0] == 1 else \"Retained\"\n",
    "    st.success(f\"Prediction: {result}\")\n"
   ]
  },
  {
   "cell_type": "code",
   "execution_count": 108,
   "metadata": {},
   "outputs": [
    {
     "name": "stdout",
     "output_type": "stream",
     "text": [
      "📉 Estimated Total Revenue Loss Due to Churn: $35,000.00\n",
      "📊 Estimated Revenue Saved by Model: $10,000.00\n",
      "🚀 Model Identified 28.57% of churners, preventing this portion\n"
     ]
    }
   ],
   "source": [
    "# Assume each retained customer generates $5,000 per year\n",
    "revenue_per_customer = 5000\n",
    "\n",
    "# Count correctly predicted churned customers\n",
    "true_churners = (y_test == 1).sum()\n",
    "predicted_churners = (y_pred == 1).sum()\n",
    "correctly_identified = (y_test[y_test == 1] == y_pred[y_test == 1]).sum()\n",
    "\n",
    "# Estimate revenue loss & savings\n",
    "revenue_loss = true_churners * revenue_per_customer\n",
    "revenue_saved = correctly_identified * revenue_per_customer\n",
    "\n",
    "print(f\"📉 Estimated Total Revenue Loss Due to Churn: ${revenue_loss:,.2f}\")\n",
    "print(f\"📊 Estimated Revenue Saved by Model: ${revenue_saved:,.2f}\")\n",
    "print(f\"🚀 Model Identified {recall*100:.2f}% of churners, preventing this portion\")\n"
   ]
  }
 ],
 "metadata": {
  "kernelspec": {
   "display_name": "Python 3",
   "language": "python",
   "name": "python3"
  },
  "language_info": {
   "codemirror_mode": {
    "name": "ipython",
    "version": 3
   },
   "file_extension": ".py",
   "mimetype": "text/x-python",
   "name": "python",
   "nbconvert_exporter": "python",
   "pygments_lexer": "ipython3",
   "version": "3.10.0rc2"
  }
 },
 "nbformat": 4,
 "nbformat_minor": 2
}
